{
  "nbformat": 4,
  "nbformat_minor": 0,
  "metadata": {
    "colab": {
      "name": "9.8 미니프로젝트 ",
      "provenance": [],
      "authorship_tag": "ABX9TyNGXkfPuH7lVKOtmysZU1Qb",
      "include_colab_link": true
    },
    "kernelspec": {
      "name": "python3",
      "display_name": "Python 3"
    },
    "language_info": {
      "name": "python"
    }
  },
  "cells": [
    {
      "cell_type": "markdown",
      "metadata": {
        "id": "view-in-github",
        "colab_type": "text"
      },
      "source": [
        "<a href=\"https://colab.research.google.com/github/cocofafa/python_AI_study/blob/master/9_8_%EB%AF%B8%EB%8B%88%ED%94%84%EB%A1%9C%EC%A0%9D%ED%8A%B8.ipynb\" target=\"_parent\"><img src=\"https://colab.research.google.com/assets/colab-badge.svg\" alt=\"Open In Colab\"/></a>"
      ]
    },
    {
      "cell_type": "code",
      "metadata": {
        "id": "Df5fE5KhSomg"
      },
      "source": [
        "#데이터 불러오기\n",
        "\n",
        "import numpy as np \n",
        "import pandas as pd \n",
        "import matplotlib.pyplot as plt\n",
        "import seaborn as sns\n"
      ],
      "execution_count": null,
      "outputs": []
    },
    {
      "cell_type": "code",
      "metadata": {
        "id": "eiImCNBVS0yd"
      },
      "source": [
        "# pd.read_csv를 통하여 dataframe 형태로 읽어옵니다.\n",
        "corona_all=pd.read_csv(\"./data/서울시 코로나19 확진자 현황.csv\")"
      ],
      "execution_count": null,
      "outputs": []
    },
    {
      "cell_type": "code",
      "metadata": {
        "id": "aZiyHEmES00R"
      },
      "source": [
        "# 상위 5개 데이터를 출력합니다.\n",
        "corona_all.head()"
      ],
      "execution_count": null,
      "outputs": []
    },
    {
      "cell_type": "code",
      "metadata": {
        "id": "tj9O2tSfS02Q"
      },
      "source": [
        "# dataframe 정보를 요약하여 출력합니다. \n",
        "corona_all.info()"
      ],
      "execution_count": null,
      "outputs": []
    },
    {
      "cell_type": "code",
      "metadata": {
        "id": "7HyY0GufS03o"
      },
      "source": [
        "# drop 함수를 사용하여 국적, 환자정보, 조치사항 coulmn 데이터를 삭제합니다.\n",
        "corona_del_col = corona_all.drop(columns = ['국적','환자정보','조치사항'])"
      ],
      "execution_count": null,
      "outputs": []
    },
    {
      "cell_type": "code",
      "metadata": {
        "id": "yGuhPGhwS-LK"
      },
      "source": [
        "# 정제 처리된 dataframe 정보를 출력합니다.\n",
        "corona_del_col.info()"
      ],
      "execution_count": null,
      "outputs": []
    },
    {
      "cell_type": "code",
      "metadata": {
        "id": "Lbkd4REYS-Nh"
      },
      "source": [
        "corona_del_col['확진일']"
      ],
      "execution_count": null,
      "outputs": []
    },
    {
      "cell_type": "code",
      "metadata": {
        "id": "EuW1RfmXS-PS"
      },
      "source": [
        "# dataframe에 추가하기 전, 임시로 데이터를 저장해 둘 list를 선언합니다.\n",
        "month = []\n",
        "day = []\n",
        "\n",
        "for data in corona_del_col['확진일']:\n",
        "    # split 함수를 사용하여 월, 일을 나누어 list에 저장합니다.\n",
        "    month.append(data.split('.')[0])\n",
        "    day.append(data.split('.')[1])"
      ],
      "execution_count": null,
      "outputs": []
    },
    {
      "cell_type": "code",
      "metadata": {
        "id": "KFGhivaqTCBy"
      },
      "source": [
        "# corona_del_col에 `month`, `day` column을 생성하며 동시에 list에 임시 저장된 데이터를 입력합니다.\n",
        "corona_del_col['month'] = month\n",
        "corona_del_col['day'] = day\n",
        "\n",
        "corona_del_col['month'].astype('int64')\n",
        "corona_del_col['day'].astype('int64')"
      ],
      "execution_count": null,
      "outputs": []
    },
    {
      "cell_type": "code",
      "metadata": {
        "id": "xt4TNAgrTCD5"
      },
      "source": [
        ""
      ],
      "execution_count": null,
      "outputs": []
    },
    {
      "cell_type": "code",
      "metadata": {
        "id": "6DZmrGGfTCGB"
      },
      "source": [
        ""
      ],
      "execution_count": null,
      "outputs": []
    }
  ]
}