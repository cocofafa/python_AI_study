{
  "nbformat": 4,
  "nbformat_minor": 0,
  "metadata": {
    "colab": {
      "name": "ELICE_08.23파이썬 기초 다시 잡기..! ",
      "provenance": [],
      "authorship_tag": "ABX9TyNORKcw6bqU5bmH1ZQW78Pt",
      "include_colab_link": true
    },
    "kernelspec": {
      "name": "python3",
      "display_name": "Python 3"
    },
    "language_info": {
      "name": "python"
    }
  },
  "cells": [
    {
      "cell_type": "markdown",
      "metadata": {
        "id": "view-in-github",
        "colab_type": "text"
      },
      "source": [
        "<a href=\"https://colab.research.google.com/github/cocofafa/python_AI_study/blob/master/ELICE_08_23%ED%8C%8C%EC%9D%B4%EC%8D%AC_%EA%B8%B0%EC%B4%88_%EB%8B%A4%EC%8B%9C_%EC%9E%A1%EA%B8%B0_!.ipynb\" target=\"_parent\"><img src=\"https://colab.research.google.com/assets/colab-badge.svg\" alt=\"Open In Colab\"/></a>"
      ]
    },
    {
      "cell_type": "code",
      "metadata": {
        "colab": {
          "base_uri": "https://localhost:8080/"
        },
        "id": "I1pQXpjY4RJN",
        "outputId": "a198fa3c-309a-480c-8911-167de89b0879"
      },
      "source": [
        "# 변수에는 정수, 실수같은 숫자를 저장할 수 있고,\n",
        "num1 = 1\n",
        "num2 = 2 \n",
        "# 영어나 한글같은 문자도 저장할 수 있어요.\n",
        "character = 'a'\n",
        "\n",
        "# 이런 문자들의 집합도 저장할 수 있고,\n",
        "string = 'Python'\n",
        "\n",
        "# 자료들을 여러 개 담을 수 있는 리스트 또한 저장할 수 있어요.\n",
        "threeList = [1, 'a', 'Python']\n",
        "\n",
        "# 여러분의 변수를 만들어 봅시다. my_var라는 이름의 변수를 만들고, 원하는 값을 넣어보세요!\n",
        "my_var = 'cocofafa'\n",
        "\n",
        "# 변수는 print()에 넣을 수도 있어요! my_var를 print로 출력해서 값이 잘 들어갔는지 확인해봅시다!\n",
        "\n",
        "print(my_var)\n",
        "# 변수끼리는 연산 또한 가능합니다. 예를들어, 위에 있는 num1, num2을 더하면?!\n",
        "print(num1+num2)"
      ],
      "execution_count": 1,
      "outputs": [
        {
          "output_type": "stream",
          "text": [
            "cocofafa\n",
            "3\n"
          ],
          "name": "stdout"
        }
      ]
    },
    {
      "cell_type": "code",
      "metadata": {
        "colab": {
          "base_uri": "https://localhost:8080/"
        },
        "id": "ru9-fgzZ4myd",
        "outputId": "01b8b00d-eabe-44ce-e2a0-dfa6c8be43df"
      },
      "source": [
        "# 변수에 문자열로 된 정수와 실수를 저장하면, \n",
        "a = '345'\n",
        "b = '1.567'\n",
        "\n",
        "# 출력 시 숫자로 보이지만 문자열이에요!\n",
        "print(a, b)\n",
        "print(type(a))\n",
        "print(type(b))\n",
        "\n",
        "# a, b 변수의 값을 알맞은 함수를 활용하여 숫자형으로 변경하고 변수 c, d에 저장하세요.\n",
        "c = int(a) # 정수\n",
        "d = float(b) # 실수\n",
        "\n",
        "\n",
        "# print()를 통해 c, d의 값과 자료형을 확인해봅시다!\n",
        "print(c, d)\n",
        "print(type(c))\n",
        "print(type(d))\n"
      ],
      "execution_count": 2,
      "outputs": [
        {
          "output_type": "stream",
          "text": [
            "345 1.567\n",
            "<class 'str'>\n",
            "<class 'str'>\n",
            "345 1.567\n",
            "<class 'int'>\n",
            "<class 'float'>\n"
          ],
          "name": "stdout"
        }
      ]
    },
    {
      "cell_type": "code",
      "metadata": {
        "id": "_j5OxGaY5Xds"
      },
      "source": [
        ""
      ],
      "execution_count": null,
      "outputs": []
    }
  ]
}