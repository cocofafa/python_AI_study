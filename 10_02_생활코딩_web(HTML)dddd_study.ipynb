{
  "nbformat": 4,
  "nbformat_minor": 0,
  "metadata": {
    "colab": {
      "name": "10.02. 생활코딩 web(HTML)dddd study",
      "provenance": [],
      "authorship_tag": "ABX9TyN3d5uTthxVrqxwO6PVmzkL",
      "include_colab_link": true
    },
    "kernelspec": {
      "name": "python3",
      "display_name": "Python 3"
    },
    "language_info": {
      "name": "python"
    }
  },
  "cells": [
    {
      "cell_type": "markdown",
      "metadata": {
        "id": "view-in-github",
        "colab_type": "text"
      },
      "source": [
        "<a href=\"https://colab.research.google.com/github/cocofafa/python_AI_study/blob/master/10_02_%EC%83%9D%ED%99%9C%EC%BD%94%EB%94%A9_web(HTML)dddd_study.ipynb\" target=\"_parent\"><img src=\"https://colab.research.google.com/assets/colab-badge.svg\" alt=\"Open In Colab\"/></a>"
      ]
    },
    {
      "cell_type": "code",
      "metadata": {
        "colab": {
          "base_uri": "https://localhost:8080/",
          "height": 136
        },
        "id": "-guQLhcLwTee",
        "outputId": "9fbdb548-42f5-44f3-d639-e631c6f8f49a"
      },
      "source": [
        "<strong>creating <u>web</u> pages</strong>\n",
        "\n",
        "#<strong> 강조  <u> 언더라인(태그!) 6강\n",
        "#atom 웹 에디터를 사용해서 재 깃푸쉬 하기"
      ],
      "execution_count": 1,
      "outputs": [
        {
          "output_type": "error",
          "ename": "SyntaxError",
          "evalue": "ignored",
          "traceback": [
            "\u001b[0;36m  File \u001b[0;32m\"<ipython-input-1-138b5d20cf22>\"\u001b[0;36m, line \u001b[0;32m1\u001b[0m\n\u001b[0;31m    <strong>creating <u>web</u> pages</strong>\u001b[0m\n\u001b[0m    ^\u001b[0m\n\u001b[0;31mSyntaxError\u001b[0m\u001b[0;31m:\u001b[0m invalid syntax\n"
          ]
        }
      ]
    },
    {
      "cell_type": "code",
      "metadata": {
        "id": "dsyXAuy2wQOi"
      },
      "source": [
        "<h1>   \n",
        "헤더(제목)_ 숫자에 따라 크기 변환, 숫자가 올라갈수록 글자가 작아짐\n",
        "</h1>"
      ],
      "execution_count": null,
      "outputs": []
    },
    {
      "cell_type": "code",
      "metadata": {
        "id": "qpIIfLEB1AzY"
      },
      "source": [
        " #인기있는 태그(통계) 및 CSS _9강\n",
        "\n",
        " 줄바꿈 태그 _ html new line tag\n",
        "\n",
        " <br> 비알태그는 닫지 않는다\n",
        "\n",
        " 단락 태그 _ html paragraph(단락) tag\n",
        "\n",
        " <p> 단락 나누기 </p>\n",
        "\n",
        "CSS에서 여백을 나타내는 태그가 있음\n",
        "\n",
        "<p style=\"margin-top:40px;\"> _ 단락간 여백을 주어 거리를 준다\n",
        "\n",
        "\n",
        "\n",
        " \n",
        "\n",
        " \n",
        "\n",
        " "
      ],
      "execution_count": null,
      "outputs": []
    },
    {
      "cell_type": "code",
      "metadata": {
        "id": "2UziPGaq6K5e"
      },
      "source": [
        "# 10강\n",
        "\n"
      ],
      "execution_count": null,
      "outputs": []
    }
  ]
}