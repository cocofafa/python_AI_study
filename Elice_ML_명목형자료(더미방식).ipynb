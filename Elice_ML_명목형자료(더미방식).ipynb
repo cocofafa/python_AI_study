{
  "nbformat": 4,
  "nbformat_minor": 0,
  "metadata": {
    "colab": {
      "name": "Elice_ML_명목형자료(더미방식)",
      "provenance": [],
      "authorship_tag": "ABX9TyP7MzpeKbz4xPrZNwbQ4R4j",
      "include_colab_link": true
    },
    "kernelspec": {
      "name": "python3",
      "display_name": "Python 3"
    },
    "language_info": {
      "name": "python"
    }
  },
  "cells": [
    {
      "cell_type": "markdown",
      "metadata": {
        "id": "view-in-github",
        "colab_type": "text"
      },
      "source": [
        "<a href=\"https://colab.research.google.com/github/cocofafa/python_AI_study/blob/master/Elice_ML_%EB%AA%85%EB%AA%A9%ED%98%95%EC%9E%90%EB%A3%8C(%EB%8D%94%EB%AF%B8%EB%B0%A9%EC%8B%9D).ipynb\" target=\"_parent\"><img src=\"https://colab.research.google.com/assets/colab-badge.svg\" alt=\"Open In Colab\"/></a>"
      ]
    },
    {
      "cell_type": "code",
      "metadata": {
        "id": "WCSJVBio_d8_"
      },
      "source": [
        "import pandas as pd\n",
        "from elice_utils import EliceUtils\n",
        "\n",
        "elice_utils = EliceUtils()\n",
        "   \n",
        "# 데이터를 읽어옵니다.\n",
        "titanic = pd.read_csv('./data/titanic.csv')\n",
        "print('변환 전: \\n',titanic['Embarked'].head())\n",
        "\n",
        "\"\"\"\n",
        "1. get_dummies를 사용하여 변환합니다.\n",
        "\"\"\"\n",
        "dummies = pd.get_dummies(titanic[['Embarked']])\n",
        "\n",
        "# 변환한 Embarked 데이터를 출력합니다.\n",
        "print('\\n변환 후: \\n',dummies.head())\n",
        "\n"
      ],
      "execution_count": null,
      "outputs": []
    },
    {
      "cell_type": "code",
      "metadata": {
        "id": "RPnUn-8m_mvm"
      },
      "source": [
        ""
      ],
      "execution_count": null,
      "outputs": []
    },
    {
      "cell_type": "code",
      "metadata": {
        "id": "j2I-qMID_o2e"
      },
      "source": [
        ""
      ],
      "execution_count": null,
      "outputs": []
    }
  ]
}