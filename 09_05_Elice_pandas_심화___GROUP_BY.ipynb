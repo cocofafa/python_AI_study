{
  "nbformat": 4,
  "nbformat_minor": 0,
  "metadata": {
    "colab": {
      "name": "09.05_Elice_pandas 심화 _ GROUP BY",
      "provenance": [],
      "authorship_tag": "ABX9TyPXGehECOQwS8iEH/DG4VKN",
      "include_colab_link": true
    },
    "kernelspec": {
      "name": "python3",
      "display_name": "Python 3"
    },
    "language_info": {
      "name": "python"
    }
  },
  "cells": [
    {
      "cell_type": "markdown",
      "metadata": {
        "id": "view-in-github",
        "colab_type": "text"
      },
      "source": [
        "<a href=\"https://colab.research.google.com/github/cocofafa/python_AI_study/blob/master/09_05_Elice_pandas_%EC%8B%AC%ED%99%94___GROUP_BY.ipynb\" target=\"_parent\"><img src=\"https://colab.research.google.com/assets/colab-badge.svg\" alt=\"Open In Colab\"/></a>"
      ]
    },
    {
      "cell_type": "code",
      "metadata": {
        "colab": {
          "base_uri": "https://localhost:8080/"
        },
        "id": "a7G86MLVnjEH",
        "outputId": "1c39cec4-35f4-4713-840c-980b8065f77a"
      },
      "source": [
        "import numpy as np\n",
        "import pandas as pd\n",
        "\n",
        "df = pd.DataFrame({\n",
        "    'key': ['A', 'B', 'C', 'A', 'B', 'C'],\n",
        "    'data1': [1, 2, 3, 1, 2, 3],\n",
        "    'data2': [4, 4, 6, 0, 6, 1]\n",
        "})\n",
        "print(\"DataFrame:\")\n",
        "print(df, \"\\n\")\n",
        "\n",
        "# groupby 함수를 이용해봅시다.\n",
        "# key를 기준으로 묶어 합계를 구해 출력해보세요.\n",
        "print(df.groupby('key').sum())\n",
        "\n",
        "# key와 data1을 기준으로 묶어 합계를 구해 출력해보세요.\n",
        "\n",
        "\n",
        "print(df.groupby(['key','data1']).sum())\n"
      ],
      "execution_count": 1,
      "outputs": [
        {
          "output_type": "stream",
          "name": "stdout",
          "text": [
            "DataFrame:\n",
            "  key  data1  data2\n",
            "0   A      1      4\n",
            "1   B      2      4\n",
            "2   C      3      6\n",
            "3   A      1      0\n",
            "4   B      2      6\n",
            "5   C      3      1 \n",
            "\n",
            "     data1  data2\n",
            "key              \n",
            "A        2      4\n",
            "B        4     10\n",
            "C        6      7\n",
            "           data2\n",
            "key data1       \n",
            "A   1          4\n",
            "B   2         10\n",
            "C   3          7\n"
          ]
        }
      ]
    },
    {
      "cell_type": "code",
      "metadata": {
        "id": "-K-PRvAPv5V4"
      },
      "source": [
        "import numpy as np\n",
        "import pandas as pd\n",
        "\n",
        "df = pd.DataFrame({\n",
        "    'key': ['A', 'B', 'C', 'A', 'B', 'C'],\n",
        "    'data1': [0, 1, 2, 3, 4, 5],\n",
        "    'data2': [4, 4, 6, 0, 6, 1]\n",
        "})\n",
        "print(\"DataFrame:\")\n",
        "print(df, \"\\n\")\n",
        "\n",
        "# aggregate를 이용하여 요약 통계량을 산출해봅시다.\n",
        "# 데이터 프레임을 'key' 칼럼으로 묶고, data1과 data2 각각의 최솟값, 중앙값, 최댓값을 출력하세요.\n",
        "\n",
        "print(df.groupby('key').aggregate([min, np.median, max]))  #미디언만 넘파이 적용\n",
        "\n",
        "# 데이터 프레임을 'key' 칼럼으로 묶고, data1의 최솟값, data2의 합계를 출력하세요.\n",
        "\n",
        "\n",
        "print(df.groupby('key').aggregate({'data1':min, 'data2':sum}))\n",
        "\n"
      ],
      "execution_count": null,
      "outputs": []
    }
  ]
}