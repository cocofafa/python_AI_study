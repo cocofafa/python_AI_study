{
  "nbformat": 4,
  "nbformat_minor": 0,
  "metadata": {
    "colab": {
      "name": "09.15_Elice_코로나 확진일 시각화",
      "provenance": [],
      "authorship_tag": "ABX9TyMbRdGH0LkAGf/TZ7wlR6An",
      "include_colab_link": true
    },
    "kernelspec": {
      "name": "python3",
      "display_name": "Python 3"
    },
    "language_info": {
      "name": "python"
    }
  },
  "cells": [
    {
      "cell_type": "markdown",
      "metadata": {
        "id": "view-in-github",
        "colab_type": "text"
      },
      "source": [
        "<a href=\"https://colab.research.google.com/github/cocofafa/python_AI_study/blob/master/09_15_Elice_%EC%BD%94%EB%A1%9C%EB%82%98_%ED%99%95%EC%A7%84%EC%9D%BC_%EC%8B%9C%EA%B0%81%ED%99%94.ipynb\" target=\"_parent\"><img src=\"https://colab.research.google.com/assets/colab-badge.svg\" alt=\"Open In Colab\"/></a>"
      ]
    },
    {
      "cell_type": "code",
      "metadata": {
        "id": "SZZghh-I4k2q"
      },
      "source": [
        "corona_del_col['확진일']"
      ],
      "execution_count": null,
      "outputs": []
    },
    {
      "cell_type": "code",
      "metadata": {
        "id": "wDvqaIcJ4sZF"
      },
      "source": [
        "# dataframe에 추가하기 전, 임시로 데이터를 저장해 둘 list를 선언합니다.\n",
        "month = []\n",
        "day = []\n",
        "\n",
        "for data in corona_del_col['확진일']:\n",
        "    # split 함수를 사용하여 월, 일을 나누어 list에 저장합니다.\n",
        "    month.append(data.split('.')[0])\n",
        "    day.append(data.split('.')[1])"
      ],
      "execution_count": null,
      "outputs": []
    },
    {
      "cell_type": "code",
      "metadata": {
        "id": "tAAzohcn4sbL"
      },
      "source": [
        "# corona_del_col에 `month`, `day` column을 생성하며 동시에 list에 임시 저장된 데이터를 입력합니다.\n",
        "corona_del_col['month'] = month\n",
        "corona_del_col['day'] = day\n",
        "\n",
        "corona_del_col['month'].astype('int64')   #astype 타입을 바꿔주는 함수\n",
        "corona_del_col['day'].astype('int64')"
      ],
      "execution_count": null,
      "outputs": []
    },
    {
      "cell_type": "code",
      "metadata": {
        "id": "7cnioEZX6K0s"
      },
      "source": [
        "### 월별 확진자 수 출력 코드  "
      ],
      "execution_count": null,
      "outputs": []
    },
    {
      "cell_type": "code",
      "metadata": {
        "id": "BXgM4ahO6K3N"
      },
      "source": [
        "# 그래프에서 x축의 순서를 정리하기 위하여 order list를 생성합니다.\n",
        "order = []\n",
        "for i in range(1,11): #10월까지의 오더\n",
        "    order.append(str(i))\n",
        "\n",
        "order"
      ],
      "execution_count": null,
      "outputs": []
    },
    {
      "cell_type": "code",
      "metadata": {
        "id": "wUznSsDh6K5L"
      },
      "source": [
        "# 그래프의 사이즈를 조절합니다.\n",
        "plt.figure(figsize=(10,5))\n",
        "\n",
        "# seaborn의 countplot 함수를 사용하여 출력합니다.\n",
        "sns.set(style=\"darkgrid\")\n",
        "ax = sns.countplot(x=\"month\", data=corona_del_col, palette=\"Set2\", order = order) #데이터의 개수"
      ],
      "execution_count": null,
      "outputs": []
    },
    {
      "cell_type": "code",
      "metadata": {
        "id": "Qv0T8w3W6K7T"
      },
      "source": [
        "# series의 plot 함수를 사용한 출력 방법도 있습니다.\n",
        "corona_del_col['month'].value_counts().plot(kind='bar')"
      ],
      "execution_count": null,
      "outputs": []
    },
    {
      "cell_type": "code",
      "metadata": {
        "id": "O3W2eImW6K88"
      },
      "source": [
        "# value_counts()는 각 데이터를 세어서 내림차순으로 정리하는 함수입니다.\n",
        "corona_del_col['month'].value_counts()"
      ],
      "execution_count": null,
      "outputs": []
    },
    {
      "cell_type": "code",
      "metadata": {
        "id": "mdYm7FMqAP5T"
      },
      "source": [
        ""
      ],
      "execution_count": null,
      "outputs": []
    },
    {
      "cell_type": "code",
      "metadata": {
        "id": "WdSE0s_wAQEF"
      },
      "source": [
        ""
      ],
      "execution_count": null,
      "outputs": []
    }
  ]
}