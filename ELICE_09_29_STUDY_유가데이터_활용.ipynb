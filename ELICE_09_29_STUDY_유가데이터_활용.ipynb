{
  "nbformat": 4,
  "nbformat_minor": 0,
  "metadata": {
    "colab": {
      "name": "ELICE_09.29_STUDY_유가데이터 활용",
      "provenance": [],
      "authorship_tag": "ABX9TyP8q0WoDTBuchMY0qfqVrNb",
      "include_colab_link": true
    },
    "kernelspec": {
      "name": "python3",
      "display_name": "Python 3"
    },
    "language_info": {
      "name": "python"
    }
  },
  "cells": [
    {
      "cell_type": "markdown",
      "metadata": {
        "id": "view-in-github",
        "colab_type": "text"
      },
      "source": [
        "<a href=\"https://colab.research.google.com/github/cocofafa/python_AI_study/blob/master/ELICE_09_29_STUDY_%EC%9C%A0%EA%B0%80%EB%8D%B0%EC%9D%B4%ED%84%B0_%ED%99%9C%EC%9A%A9.ipynb\" target=\"_parent\"><img src=\"https://colab.research.google.com/assets/colab-badge.svg\" alt=\"Open In Colab\"/></a>"
      ]
    },
    {
      "cell_type": "code",
      "metadata": {
        "id": "uTOnMikN8Ddh"
      },
      "source": [
        "ns.boxplot(x=m['휘발유_2021'])"
      ],
      "execution_count": null,
      "outputs": []
    },
    {
      "cell_type": "code",
      "metadata": {
        "id": "C0RzYZSX8GS9"
      },
      "source": [
        "boxplot_order = m.groupby('지역2')['휘발유_2021'].median().sort_values(ascending=False).index\n",
        "plt.figure(figsize=(15,7))\n",
        "sns.boxplot(x=\"지역2\", y=\"휘발유_2021\", data=m, orient=\"v\", order=boxplot_order)"
      ],
      "execution_count": null,
      "outputs": []
    },
    {
      "cell_type": "code",
      "metadata": {
        "id": "46JqJUsF8GU7"
      },
      "source": [
        "# 채점을 수행하기 위하여 로그인\n",
        "import sys\n",
        "sys.path.append('vendor')\n",
        "from elice_challenge import check_score, upload"
      ],
      "execution_count": null,
      "outputs": []
    },
    {
      "cell_type": "code",
      "metadata": {
        "id": "JGgZUjzX8GW0"
      },
      "source": [
        " 2019년 기준 셀프주유소의 시장 점유율을 quiz_2 변수에 저장합니다.\n",
        "# 비율은 소숫점 둘째자리 까지 반올림하여 숫자형으로 제출합니다.\n",
        "quiz_2 = None"
      ],
      "execution_count": null,
      "outputs": []
    },
    {
      "cell_type": "code",
      "metadata": {
        "id": "nvr_9aiP8GYs"
      },
      "source": [
        "brand_share_dict=dict()\n",
        "for year in range(2018,2022):\n",
        "    brand_share_dict[str(year)]=m.groupby(f'상표_{year}').size()"
      ],
      "execution_count": null,
      "outputs": []
    },
    {
      "cell_type": "code",
      "metadata": {
        "id": "brBs-Yff8V4J"
      },
      "source": [
        "brand_share_df = pd.DataFrame(brand_share_dict)\n",
        "brand_share_df"
      ],
      "execution_count": null,
      "outputs": []
    },
    {
      "cell_type": "code",
      "metadata": {
        "id": "QQDnzB2S8V8w"
      },
      "source": [
        "brand_share_df = brand_share_df.drop('SK가스')\n",
        "brand_ratio_df = brand_share_df.apply(lambda x:x/brand_share_df.sum(),axis=1)\n",
        "brand_ratio_df = brand_ratio_df.sort_values('2018',ascending=False)"
      ],
      "execution_count": null,
      "outputs": []
    },
    {
      "cell_type": "code",
      "metadata": {
        "id": "rr11a6X68Gad"
      },
      "source": [
        "brand_ratio_df"
      ],
      "execution_count": null,
      "outputs": []
    }
  ]
}