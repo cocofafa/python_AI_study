{
  "nbformat": 4,
  "nbformat_minor": 0,
  "metadata": {
    "colab": {
      "name": "08.27_Elice_python_study",
      "provenance": [],
      "authorship_tag": "ABX9TyO6BFe+V7HLvv0xNDG0iAog",
      "include_colab_link": true
    },
    "kernelspec": {
      "name": "python3",
      "display_name": "Python 3"
    },
    "language_info": {
      "name": "python"
    }
  },
  "cells": [
    {
      "cell_type": "markdown",
      "metadata": {
        "id": "view-in-github",
        "colab_type": "text"
      },
      "source": [
        "<a href=\"https://colab.research.google.com/github/cocofafa/python_AI_study/blob/master/08_27_Elice_python_study.ipynb\" target=\"_parent\"><img src=\"https://colab.research.google.com/assets/colab-badge.svg\" alt=\"Open In Colab\"/></a>"
      ]
    },
    {
      "cell_type": "code",
      "metadata": {
        "id": "FLFYQVBdg3dl"
      },
      "source": [
        "my_list=[5,4,3,2]        #다른 문자열 끼리는 오름차순이 적용이 안된다 한 리스트에는 같은 문자열이 있어야만 한다 !!\n",
        "\n",
        "my_list.sort()\n",
        "\n",
        "print(my_list)"
      ],
      "execution_count": null,
      "outputs": []
    },
    {
      "cell_type": "code",
      "metadata": {
        "id": "6Li5s-PXh8C8"
      },
      "source": [
        "my_list = []             #insert(위치, 넣을 값)  구분하기!\n",
        "\n",
        "\n",
        "my_list.append(5)\n",
        "my_list.append(4)\n",
        "my_list.append(2)\n",
        "my_list.append(1)\n",
        "\n",
        "print(my_list)\n"
      ],
      "execution_count": null,
      "outputs": []
    },
    {
      "cell_type": "code",
      "metadata": {
        "id": "PzPdIi1WnVis"
      },
      "source": [
        "\n",
        "1\n",
        "my_str = \"Impossible\"\n",
        "2\n",
        "​\n",
        "3\n",
        "my_list = [\"Apple\", \"Banana\", \"Chamwae\", \"Durian\"]\n",
        "4\n",
        "​\n",
        "5\n",
        "​\n",
        "6\n",
        "var1 = len(my_str)\n",
        "7\n",
        "​\n",
        "8\n",
        "var2 = \"Egg\" in my_list   # in 알아두기\n",
        "9\n",
        "​\n",
        "10\n",
        "print(var1, var2)\n",
        "\n"
      ],
      "execution_count": null,
      "outputs": []
    },
    {
      "cell_type": "code",
      "metadata": {
        "id": "Afmlic_wo6j1"
      },
      "source": [
        "my_dict= {\"사과\":\"apple\",\"바나나\":\"banana\", \"당근\":\"carrot\" }\n",
        "\n",
        "var1= my_dict[\"사과\"]\n",
        "\n",
        "del my_dict[\"당근\"]\n",
        "\n",
        "my_dict[\"체리\"] = \"cherry\"\n",
        "\n",
        "print(my_dict)"
      ],
      "execution_count": null,
      "outputs": []
    },
    {
      "cell_type": "code",
      "metadata": {
        "id": "DtgAd7TAo7E8"
      },
      "source": [
        "my_dict = {}\n",
        "\n",
        "\n",
        "my_dict[1] = \"Integer\"\n",
        "my_dict[\"a\"] = \"String\"\n",
        "my_dict[(1,2,3)] = \"Tuple\"\n",
        "print(my_dict)\n",
        "\n",
        "\n",
        "\n",
        "\n",
        "try:\n",
        "    #여기에 [1, 2, 3] → \"List\"의 대응관계를 만들어봅시다.                #딕셔너리에 키에는 리스트는 안되고 튜플!을 사용해야 한다 (키 값은 변하면 안되기 때문!)\n",
        "    my_dict[[1,2,3]] = \"List\"   \n",
        "    \n",
        "except TypeError:\n",
        "    print(\"List는 Dictionary의 Key가 될 수 없습니다.\")"
      ],
      "execution_count": null,
      "outputs": []
    }
  ]
}