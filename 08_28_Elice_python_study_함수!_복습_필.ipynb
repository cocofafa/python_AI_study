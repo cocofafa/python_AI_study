{
  "nbformat": 4,
  "nbformat_minor": 0,
  "metadata": {
    "colab": {
      "name": "08.28_Elice_python_study. 함수! 복습 필",
      "provenance": [],
      "authorship_tag": "ABX9TyMBqalcLhnA8KZP8UHprc8K",
      "include_colab_link": true
    },
    "kernelspec": {
      "name": "python3",
      "display_name": "Python 3"
    },
    "language_info": {
      "name": "python"
    }
  },
  "cells": [
    {
      "cell_type": "markdown",
      "metadata": {
        "id": "view-in-github",
        "colab_type": "text"
      },
      "source": [
        "<a href=\"https://colab.research.google.com/github/cocofafa/python_AI_study/blob/master/08_28_Elice_python_study_%ED%95%A8%EC%88%98!_%EB%B3%B5%EC%8A%B5_%ED%95%84.ipynb\" target=\"_parent\"><img src=\"https://colab.research.google.com/assets/colab-badge.svg\" alt=\"Open In Colab\"/></a>"
      ]
    },
    {
      "cell_type": "code",
      "metadata": {
        "id": "WAhwpSoqFpX8"
      },
      "source": [
        "my_list = [1,2,3,4,5]\n",
        "\n",
        "var1 = sum(my_list)\n",
        "var2 = len(my_list)\n",
        "var3 = var1/var2"
      ],
      "execution_count": null,
      "outputs": []
    },
    {
      "cell_type": "code",
      "metadata": {
        "id": "fTZuJVdRJNWv"
      },
      "source": [
        "# 개념중요!!!\n",
        "\n",
        "\n",
        "\n",
        "\n",
        "\n",
        "\n",
        "\n",
        "def plus_print(a,b):\n",
        "    print(a+b)\n",
        "    \n",
        "def times_return(a,b):    #반환값만 있을경우 우리에게 보여주는건 프린트(출력 값) 이기 때문에 프린트 함수 안에 함수를 출력해 준다!\n",
        "    return a*b\n",
        "    \n",
        "plus_print(3,4)\n",
        "print(times_return(3,4))"
      ],
      "execution_count": null,
      "outputs": []
    },
    {
      "cell_type": "code",
      "metadata": {
        "id": "Uahv4wayKYQc"
      },
      "source": [
        "# 메서드 vs 함수\n",
        "\n",
        "# 함수는 len( )   /   메서드는 특정 자료와 연관 짓는다 ex) my_list,sort()"
      ],
      "execution_count": null,
      "outputs": []
    },
    {
      "cell_type": "code",
      "metadata": {
        "id": "pWtUmMD0Ljpl"
      },
      "source": [
        "\n",
        "1\n",
        "my_dict = {1:\"코코\", 2:\"파파\", 3:\"호두\"}\n",
        "2\n",
        "​\n",
        "3\n",
        "var1=my_dict.keys()       #메서드\n",
        "4\n",
        "​\n",
        "5\n",
        "var2=my_dict.values()\n",
        "6\n",
        "​\n",
        "7\n",
        "print(var1)\n",
        "8\n",
        "print(var2)\n",
        "\n"
      ],
      "execution_count": null,
      "outputs": []
    },
    {
      "cell_type": "code",
      "metadata": {
        "id": "yDxw2fNvNpvF"
      },
      "source": [
        "def solve(a,b): #a,b 는 매개변수/ 함수를 정의하는 것\n",
        "\n",
        "\n",
        "    return a*b\n",
        "    \n",
        "var1 = solve(3,4) #인자\n",
        "\n",
        "var2 = solve(3,['Cham'])    #인자로 리스트도 가능\n",
        "\n",
        "print(var1)\n",
        "print(var2)\n",
        "\n",
        "#쉽다 생각하지 말고 기초부터 튼튼히 해보자!"
      ],
      "execution_count": null,
      "outputs": []
    }
  ]
}