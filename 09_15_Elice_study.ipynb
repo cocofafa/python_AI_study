{
  "nbformat": 4,
  "nbformat_minor": 0,
  "metadata": {
    "colab": {
      "name": "09.15 Elice_study",
      "provenance": [],
      "authorship_tag": "ABX9TyNQa7XfSO8g6FjExTEb7abI",
      "include_colab_link": true
    },
    "kernelspec": {
      "name": "python3",
      "display_name": "Python 3"
    },
    "language_info": {
      "name": "python"
    }
  },
  "cells": [
    {
      "cell_type": "markdown",
      "metadata": {
        "id": "view-in-github",
        "colab_type": "text"
      },
      "source": [
        "<a href=\"https://colab.research.google.com/github/cocofafa/python_AI_study/blob/master/09_15_Elice_study.ipynb\" target=\"_parent\"><img src=\"https://colab.research.google.com/assets/colab-badge.svg\" alt=\"Open In Colab\"/></a>"
      ]
    },
    {
      "cell_type": "code",
      "metadata": {
        "id": "QIAlIkpf4JWN"
      },
      "source": [
        ""
      ],
      "execution_count": null,
      "outputs": []
    },
    {
      "cell_type": "code",
      "metadata": {
        "id": "f8ood2zV4NLi"
      },
      "source": [
        ""
      ],
      "execution_count": null,
      "outputs": []
    },
    {
      "cell_type": "code",
      "metadata": {
        "id": "yTyq76XE4NNq"
      },
      "source": [
        "import numpy as np \n",
        "import pandas as pd \n",
        "import matplotlib.pyplot as plt"
      ],
      "execution_count": null,
      "outputs": []
    },
    {
      "cell_type": "code",
      "metadata": {
        "id": "-AD74TcD4NPy"
      },
      "source": [
        "# pd.read_csv를 통하여 승하차 인원 정보 데이터를 데이터프레임 형태로 읽어옵니다.\n",
        "metro_all = pd.read_csv(\"./data/서울시 지하철 호선별 역별 시간대별 승하차 인원 정보_20210705.csv\", encoding = 'cp949')"
      ],
      "execution_count": null,
      "outputs": []
    },
    {
      "cell_type": "code",
      "metadata": {
        "id": "nm0Sg7v24NR6"
      },
      "source": [
        "# 승하차 인원 정보 상위 5개 데이터를 출력합니다.\n",
        "metro_all.head()"
      ],
      "execution_count": null,
      "outputs": []
    },
    {
      "cell_type": "code",
      "metadata": {
        "id": "3zBHEnY44NUC"
      },
      "source": [
        "# 승하차 인원 정보 데이터프레임 정보를 요약하여 출력합니다. \n",
        "metro_all.info()"
      ],
      "execution_count": null,
      "outputs": []
    },
    {
      "cell_type": "code",
      "metadata": {
        "id": "lvXx7-dl4NWC"
      },
      "source": [
        "# metro_all DataFrame 사용월 데이터 확인\n",
        "sorted(list(set(metro_all['사용월'])))"
      ],
      "execution_count": null,
      "outputs": []
    },
    {
      "cell_type": "code",
      "metadata": {
        "id": "KOky6N6t4NYB"
      },
      "source": [
        "# metro_all DataFrame 호선명 데이터 확인\n",
        "sorted(list(set(metro_all['호선명'])))"
      ],
      "execution_count": null,
      "outputs": []
    },
    {
      "cell_type": "code",
      "metadata": {
        "id": "-8Qara9J4NZy"
      },
      "source": [
        "# DataFrame 지하철역 데이터 확인\n",
        "sorted(list(set(metro_all['지하철역'])))"
      ],
      "execution_count": null,
      "outputs": []
    },
    {
      "cell_type": "code",
      "metadata": {
        "id": "qdUQE3YG4NcC"
      },
      "source": [
        "# DataFrame 지하철역 데이터 개수 확인\n",
        "len(list(set(metro_all['지하철역'])))"
      ],
      "execution_count": null,
      "outputs": []
    },
    {
      "cell_type": "code",
      "metadata": {
        "id": "r1bhfE2W4NeN"
      },
      "source": [
        "# 2021년 6월 총 승객수만 추출\n",
        "metro_recent = metro_all[metro_all['사용월']==202106]\n",
        "metro_recent"
      ],
      "execution_count": null,
      "outputs": []
    },
    {
      "cell_type": "code",
      "metadata": {
        "id": "6FM-jtzl4NgB"
      },
      "source": [
        "# 불필요한 작업일자 컬럼 제거\n",
        "metro_recent = metro_recent.drop(columns={'작업일자'})\n",
        "metro_recent"
      ],
      "execution_count": null,
      "outputs": []
    },
    {
      "cell_type": "code",
      "metadata": {
        "id": "hNX_b1Am4pfW"
      },
      "source": [
        "import matplotlib.font_manager as fm\n",
        "\n",
        "font_dirs = ['/usr/share/fonts/truetype/nanum', ]\n",
        "font_files = fm.findSystemFonts(fontpaths=font_dirs)\n",
        "\n",
        "for font_file in font_files:\n",
        "    fm.fontManager.addfont(font_file)"
      ],
      "execution_count": null,
      "outputs": []
    },
    {
      "cell_type": "code",
      "metadata": {
        "id": "bq0oPmN04phe"
      },
      "source": [
        "metro_line = metro_recent.groupby(['호선명']).mean().reset_index()\n",
        "metro_line = metro_line.drop(columns='사용월').set_index('호선명')\n",
        "metro_line = metro_line.mean(axis=1).sort_values(ascending=False)\n",
        "\n",
        "plt.figure(figsize=(20,10))\n",
        "plt.rc('font', family=\"NanumBarunGothic\")\n",
        "plt.rcParams['axes.unicode_minus'] = False\n",
        "\n",
        "metro_line.plot(kind=('bar'))\n",
        "plt.show()"
      ],
      "execution_count": null,
      "outputs": []
    }
  ]
}