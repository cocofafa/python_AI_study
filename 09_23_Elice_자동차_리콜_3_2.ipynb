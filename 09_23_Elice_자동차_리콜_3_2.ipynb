{
  "nbformat": 4,
  "nbformat_minor": 0,
  "metadata": {
    "colab": {
      "name": "09.23_Elice_자동차 리콜 3_2",
      "provenance": [],
      "authorship_tag": "ABX9TyMNa+3/sImrTn4Qx+it+in/",
      "include_colab_link": true
    },
    "kernelspec": {
      "name": "python3",
      "display_name": "Python 3"
    },
    "language_info": {
      "name": "python"
    }
  },
  "cells": [
    {
      "cell_type": "markdown",
      "metadata": {
        "id": "view-in-github",
        "colab_type": "text"
      },
      "source": [
        "<a href=\"https://colab.research.google.com/github/cocofafa/python_AI_study/blob/master/09_23_Elice_%EC%9E%90%EB%8F%99%EC%B0%A8_%EB%A6%AC%EC%BD%9C_3_2.ipynb\" target=\"_parent\"><img src=\"https://colab.research.google.com/assets/colab-badge.svg\" alt=\"Open In Colab\"/></a>"
      ]
    },
    {
      "cell_type": "code",
      "metadata": {
        "id": "aJvzbBziDLXr"
      },
      "source": [
        ""
      ],
      "execution_count": null,
      "outputs": []
    },
    {
      "cell_type": "code",
      "metadata": {
        "id": "3sXjTDniDMmo"
      },
      "source": [
        "pd.DataFrame(df.groupby(\"model\").count()[\"start_year\"].sort_values(ascending=False)).rename(columns={\"start_year\": \"count\"}).head(10)"
      ],
      "execution_count": null,
      "outputs": []
    },
    {
      "cell_type": "code",
      "metadata": {
        "id": "n6Aa_JfsDMoe"
      },
      "source": [
        "tmp = pd.DataFrame(df.groupby(\"model\").count()[\"manufacturer\"].sort_values(ascending=False))\n",
        "tmp = tmp.rename(columns={\"manufacturer\": \"count\"}).iloc[:50]"
      ],
      "execution_count": null,
      "outputs": []
    },
    {
      "cell_type": "code",
      "metadata": {
        "id": "i7LHxh4xDT_W"
      },
      "source": [
        "# 그래프의 사이즈를 조절합니다.\n",
        "plt.figure(figsize=(10,5))\n",
        "\n",
        "# seaborn의 countplot 함수를 사용하여 출력합니다.\n",
        "sns.set(font=\"NanumBarunGothic\", \n",
        "        rc={\"axes.unicode_minus\":False},\n",
        "        style='darkgrid')\n",
        "ax = sns.countplot(x=\"model\", data=df[df.model.isin(tmp.index)], palette=\"Set2\", order=tmp.index)\n",
        "plt.xticks(rotation=270)\n",
        "plt.show()"
      ],
      "execution_count": null,
      "outputs": []
    },
    {
      "cell_type": "code",
      "metadata": {
        "id": "z2VFYbG0DMqW"
      },
      "source": [
        "pd.DataFrame(df.groupby(\"recall_month\").count()[\"start_year\"].sort_values(ascending=False)).rename(columns={\"start_year\": \"count\"})"
      ],
      "execution_count": null,
      "outputs": []
    },
    {
      "cell_type": "code",
      "metadata": {
        "id": "sQtxjxV_DMsf"
      },
      "source": [
        "# 그래프의 사이즈를 조절합니다.\n",
        "plt.figure(figsize=(10,5))\n",
        "\n",
        "# seaborn의 countplot 함수를 사용하여 출력합니다.\n",
        "sns.set(style=\"darkgrid\")\n",
        "ax = sns.countplot(x=\"recall_month\", data=df, palette=\"Set2\")\n",
        "plt.show()"
      ],
      "execution_count": null,
      "outputs": []
    },
    {
      "cell_type": "code",
      "metadata": {
        "id": "cYPp29R_DMuf"
      },
      "source": [
        "tmp = pd.DataFrame(df.groupby(\"start_year\").count()[\"model\"]).rename(columns={\"model\": \"count\"}).reset_index()\n",
        "\n",
        "# 그래프의 사이즈를 조절합니다.\n",
        "plt.figure(figsize=(10,5))\n",
        "\n",
        "# seaborn의 countplot 함수를 사용하여 출력합니다.\n",
        "sns.set(style=\"darkgrid\")\n",
        "sns.lineplot(data=tmp, x=\"start_year\", y=\"count\")\n",
        "plt.show()"
      ],
      "execution_count": null,
      "outputs": []
    },
    {
      "cell_type": "code",
      "metadata": {
        "id": "z1XfuuDkDMwf"
      },
      "source": [
        "# tmp = pd.DataFrame(df.groupby(\"recall_month\").count()[\"start_year\"].sort_values(ascending=False)).rename(columns={\"start_year\": \"count\"})\n",
        "# tmp.iloc[0][\"count\"]-tmp.iloc[-1][\"count\"]"
      ],
      "execution_count": null,
      "outputs": []
    },
    {
      "cell_type": "code",
      "metadata": {
        "id": "lhThmBVXDMyf"
      },
      "source": [
        "# 퀴즈의 답을 구하여 quiz_1 변수에 저장합니다.\n",
        "# integer 형 상수값으로 저장합니다.\n",
        "quiz_1 = None"
      ],
      "execution_count": null,
      "outputs": []
    },
    {
      "cell_type": "code",
      "metadata": {
        "id": "kz-vwMnkDM0f"
      },
      "source": [
        "# 논리연산을 이용한 조건을 다음과 같이 사용하면 해당 조건에 맞는 데이터를 출력할 수 있습니다.\n",
        "df[df.recall_month.isin([10,11,12])].head()"
      ],
      "execution_count": null,
      "outputs": []
    },
    {
      "cell_type": "code",
      "metadata": {
        "id": "7rFdh0kEDM2X"
      },
      "source": [
        "# 그래프를 출력합니다.\n",
        "plt.figure(figsize=(20,10))\n",
        "sns.set(font=\"NanumBarunGothic\", \n",
        "        rc={\"axes.unicode_minus\":False},\n",
        "        style='darkgrid')\n",
        "ax = sns.countplot(x=\"manufacturer\", data=df[df.recall_month.isin([10,11,12])], palette=\"Set2\")\n",
        "plt.xticks(rotation=270)\n",
        "plt.show()"
      ],
      "execution_count": null,
      "outputs": []
    },
    {
      "cell_type": "code",
      "metadata": {
        "id": "QXQL5oyQDM4Q"
      },
      "source": [
        "# 해당 column을 지정하여 series 형태로 출력할 수 있습니다.\n",
        "df[df.recall_month>=7].head()"
      ],
      "execution_count": null,
      "outputs": []
    },
    {
      "cell_type": "code",
      "metadata": {
        "id": "XAbY81BFDcOM"
      },
      "source": [
        "# 그래프를 출력합니다.\n",
        "plt.figure(figsize=(10,5))\n",
        "sns.set(style=\"darkgrid\")\n",
        "ax = sns.countplot(x=\"start_year\", data=df[df.recall_month>=7], palette=\"Set2\")\n",
        "plt.show()"
      ],
      "execution_count": null,
      "outputs": []
    },
    {
      "cell_type": "code",
      "metadata": {
        "id": "AAJQSiTrDcTX"
      },
      "source": [
        "# 워드 클라우드 생성을 도와주는 패키지를 가져옵니다.\n",
        "try:\n",
        "    from wordcloud import WordCloud, STOPWORDS\n",
        "except:\n",
        "    !pip install wordcloud\n",
        "    from wordcloud import WordCloud, STOPWORDS"
      ],
      "execution_count": null,
      "outputs": []
    },
    {
      "cell_type": "code",
      "metadata": {
        "id": "3tObhSFcDb1q"
      },
      "source": [
        "# 문법적인 성분들을 배제하기 위해 stopwords들을 따로 저장해둡니다.\n",
        "set(STOPWORDS)"
      ],
      "execution_count": null,
      "outputs": []
    },
    {
      "cell_type": "code",
      "metadata": {
        "id": "5Z3cpe3hDe7D"
      },
      "source": [
        "# 손으로 직접 리콜 사유와 관련이 적은 문법적 어구들을 배제해보겠습니다.\n",
        "spwords = set([\"동안\", \"인하여\", \"있는\", \"경우\", \"있습니다\", \"가능성이\", \"않을\", \"차량의\", \"가\", \"에\", \"될\", \"이\",\n",
        "               \"인해\", \"수\", \"중\", \"시\", \"또는\", \"있음\", \"의\", \"및\", \"있으며\", \"발생할\", \"이로\", \"오류로\", \"해당\"])"
      ],
      "execution_count": null,
      "outputs": []
    },
    {
      "cell_type": "code",
      "metadata": {
        "id": "gHZEEaMZDf-U"
      },
      "source": [
        "text = \"\"\n",
        "\n",
        "for c in df.cause.drop_duplicates():\n",
        "    text += c\n",
        "\n",
        "text[:100]"
      ],
      "execution_count": null,
      "outputs": []
    },
    {
      "cell_type": "code",
      "metadata": {
        "id": "7xgBnSP1Dg4s"
      },
      "source": [
        "wc1 = WordCloud(max_font_size=200, stopwords=spwords, font_path='/usr/share/fonts/truetype/nanum/NanumGothic.ttf',\n",
        "                background_color='white', width=800, height=800)\n",
        "wc1.generate(text)\n",
        "\n",
        "plt.figure(figsize=(10, 8))\n",
        "plt.imshow(wc1)\n",
        "plt.tight_layout(pad=0)\n",
        "plt.axis('off')\n",
        "plt.show()"
      ],
      "execution_count": null,
      "outputs": []
    },
    {
      "cell_type": "code",
      "metadata": {
        "id": "Fwhao5FxDiCk"
      },
      "source": [
        "# df[df['manufacturer']==\"기아자동차(주)\"].sort_values(by=[\"recall_year\", \"recall_month\", \"recall_day\"], ascending=False).iloc[0]['model']"
      ],
      "execution_count": null,
      "outputs": []
    },
    {
      "cell_type": "code",
      "metadata": {
        "id": "_d7X7qhJDjGM"
      },
      "source": [
        "# 퀴즈의 답을 구하여 quiz_2 변수에 저장합니다.\n",
        "# 문자형으로 저장합니다.\n",
        "quiz_2 = None"
      ],
      "execution_count": null,
      "outputs": []
    }
  ]
}