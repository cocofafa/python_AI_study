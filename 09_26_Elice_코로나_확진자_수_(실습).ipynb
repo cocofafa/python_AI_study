{
  "nbformat": 4,
  "nbformat_minor": 0,
  "metadata": {
    "colab": {
      "name": "09.26_Elice_코로나 확진자 수 (실습)",
      "provenance": [],
      "authorship_tag": "ABX9TyNVQAi6uhSWEpV0GCg/J7KJ",
      "include_colab_link": true
    },
    "kernelspec": {
      "name": "python3",
      "display_name": "Python 3"
    },
    "language_info": {
      "name": "python"
    }
  },
  "cells": [
    {
      "cell_type": "markdown",
      "metadata": {
        "id": "view-in-github",
        "colab_type": "text"
      },
      "source": [
        "<a href=\"https://colab.research.google.com/github/cocofafa/python_AI_study/blob/master/09_26_Elice_%EC%BD%94%EB%A1%9C%EB%82%98_%ED%99%95%EC%A7%84%EC%9E%90_%EC%88%98_(%EC%8B%A4%EC%8A%B5).ipynb\" target=\"_parent\"><img src=\"https://colab.research.google.com/assets/colab-badge.svg\" alt=\"Open In Colab\"/></a>"
      ]
    },
    {
      "cell_type": "code",
      "metadata": {
        "id": "KleZ6zWLwrp0"
      },
      "source": [
        "corona_del_col['지역']"
      ],
      "execution_count": null,
      "outputs": []
    },
    {
      "cell_type": "markdown",
      "metadata": {
        "id": "kxv6FbDTwvU1"
      },
      "source": [
        ""
      ]
    },
    {
      "cell_type": "code",
      "metadata": {
        "id": "jlQyWBoSwvev"
      },
      "source": [
        "import matplotlib.font_manager as fm\n",
        "\n",
        "font_dirs = ['/usr/share/fonts/truetype/nanum', ]\n",
        "font_files = fm.findSystemFonts(fontpaths=font_dirs)\n",
        "\n",
        "for font_file in font_files:\n",
        "    fm.fontManager.addfont(font_file)"
      ],
      "execution_count": null,
      "outputs": []
    },
    {
      "cell_type": "code",
      "metadata": {
        "id": "tH1q1xwYwvg_"
      },
      "source": [
        "plt.figure(figsize=(20,10))\n",
        "# 한글 출력을 위해서 폰트 옵션을 설정합니다.\n",
        "sns.set(font=\"NanumBarunGothic\", \n",
        "        rc={\"axes.unicode_minus\":False},\n",
        "        style='darkgrid')\n",
        "ax = sns.countplot(x=\"지역\", data=corona_del_col, palette=\"Set2\")"
      ],
      "execution_count": null,
      "outputs": []
    },
    {
      "cell_type": "code",
      "metadata": {
        "id": "k4GoTdaswvjU"
      },
      "source": [
        "# replace 함수를 사용하여 해당 데이터를 변경합니다.\n",
        "# 이상치가 처리된 데이터이기에 새로운 Dataframe으로 저장합니다.\n",
        "corona_out_region = corona_del_col.replace({'종랑구':'중랑구', '한국':'기타'})"
      ],
      "execution_count": null,
      "outputs": []
    },
    {
      "cell_type": "code",
      "metadata": {
        "id": "dgAJRylHwvlc"
      },
      "source": [
        "# 이상치가 처리된 데이터를 다시 출력해 봅시다.\n",
        "plt.figure(figsize=(20,10))\n",
        "sns.set(font=\"NanumBarunGothic\", \n",
        "        rc={\"axes.unicode_minus\":False},\n",
        "        style='darkgrid')\n",
        "ax = sns.countplot(x=\"지역\", data=corona_out_region, palette=\"Set2\")"
      ],
      "execution_count": null,
      "outputs": []
    },
    {
      "cell_type": "code",
      "metadata": {
        "id": "cuOHAyMkwvnk"
      },
      "source": [
        "# 논리연산을 이용한 조건을 다음과 같이 사용하면 해당 조건에 맞는 데이터를 출력할 수 있습니다.\n",
        "corona_out_region[corona_del_col['month'] == '8']"
      ],
      "execution_count": null,
      "outputs": []
    },
    {
      "cell_type": "code",
      "metadata": {
        "id": "jfbppedSwvpv"
      },
      "source": [
        "# 그래프를 출력합니다.\n",
        "plt.figure(figsize=(20,10))\n",
        "sns.set(font=\"NanumBarunGothic\", \n",
        "        rc={\"axes.unicode_minus\":False},\n",
        "        style='darkgrid')\n",
        "ax = sns.countplot(x=\"지역\", data=corona_out_region[corona_del_col['month'] == '8'], palette=\"Set2\")"
      ],
      "execution_count": null,
      "outputs": []
    },
    {
      "cell_type": "code",
      "metadata": {
        "id": "lvWfkpjOwvsG"
      },
      "source": [
        "# 해당 column을 지정하여 series 형태로 출력할 수 있습니다.\n",
        "corona_out_region['month'][corona_out_region['지역'] == '관악구']"
      ],
      "execution_count": null,
      "outputs": []
    },
    {
      "cell_type": "code",
      "metadata": {
        "id": "R2Beu6eWwvuP"
      },
      "source": [
        "# 그래프를 출력합니다.\n",
        "plt.figure(figsize=(10,5))\n",
        "sns.set(style=\"darkgrid\")\n",
        "ax = sns.countplot(x=\"month\", data=corona_out_region[corona_out_region['지역'] == '관악구'], palette=\"Set2\", order = order)"
      ],
      "execution_count": null,
      "outputs": []
    },
    {
      "cell_type": "code",
      "metadata": {
        "id": "64GUk561yjNZ"
      },
      "source": [
        ""
      ],
      "execution_count": null,
      "outputs": []
    },
    {
      "cell_type": "code",
      "metadata": {
        "id": "Jykr1gdMyjPw"
      },
      "source": [
        ""
      ],
      "execution_count": null,
      "outputs": []
    },
    {
      "cell_type": "code",
      "metadata": {
        "id": "9yDcqdgJyjRs"
      },
      "source": [
        ""
      ],
      "execution_count": null,
      "outputs": []
    },
    {
      "cell_type": "code",
      "metadata": {
        "id": "oXPBpd2lyjTr"
      },
      "source": [
        ""
      ],
      "execution_count": null,
      "outputs": []
    }
  ]
}