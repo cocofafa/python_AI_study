{
  "nbformat": 4,
  "nbformat_minor": 0,
  "metadata": {
    "colab": {
      "name": "09.18 Elice_study",
      "provenance": [],
      "authorship_tag": "ABX9TyOq2Qw+ORUYWjoLdudoDSbc",
      "include_colab_link": true
    },
    "kernelspec": {
      "name": "python3",
      "display_name": "Python 3"
    },
    "language_info": {
      "name": "python"
    }
  },
  "cells": [
    {
      "cell_type": "markdown",
      "metadata": {
        "id": "view-in-github",
        "colab_type": "text"
      },
      "source": [
        "<a href=\"https://colab.research.google.com/github/cocofafa/python_AI_study/blob/master/09_18_Elice_study.ipynb\" target=\"_parent\"><img src=\"https://colab.research.google.com/assets/colab-badge.svg\" alt=\"Open In Colab\"/></a>"
      ]
    },
    {
      "cell_type": "code",
      "metadata": {
        "id": "31GLxgPyrKLX"
      },
      "source": [
        "# 그래프에서 x축의 순서를 정리하기 위하여 order list를 생성합니다.\n",
        "order2 = []\n",
        "for i in range(1,32):\n",
        "    \n",
        "    order2.append(str(i))\n",
        "\n",
        "order2"
      ],
      "execution_count": null,
      "outputs": []
    },
    {
      "cell_type": "code",
      "metadata": {
        "id": "CvK6t-1CrQsL"
      },
      "source": [
        "# seaborn의 countplot 함수를 사용하여 출력합니다.\n",
        "plt.figure(figsize=(20,10))\n",
        "sns.set(style=\"darkgrid\")\n",
        "ax = sns.countplot(x=\"day\", data=corona_del_col[corona_del_col['month'] == '8'], palette=\"rocket_r\", order = order2)"
      ],
      "execution_count": null,
      "outputs": []
    },
    {
      "cell_type": "code",
      "metadata": {
        "id": "v28WFxD4rQuY"
      },
      "source": [
        "# corona_del_col[corona_del_col['month'] == '8']['day'].count()/31\n",
        "# corona_del_col[corona_del_col['month'] == '8']['day'].value_counts().mean()"
      ],
      "execution_count": null,
      "outputs": []
    },
    {
      "cell_type": "code",
      "metadata": {
        "id": "XTqFE5G1rQ0Q"
      },
      "source": [
        "# 8월 평균 확진자 수를 구하여 quiz_1 변수에 저장합니다.\n",
        "# float 형 상수값으로 저장합니다.\n",
        "quiz_1 = None"
      ],
      "execution_count": null,
      "outputs": []
    },
    {
      "cell_type": "code",
      "metadata": {
        "id": "8re0nPEtrQ2h"
      },
      "source": [
        "corona_del_col['지역']"
      ],
      "execution_count": null,
      "outputs": []
    },
    {
      "cell_type": "code",
      "metadata": {
        "id": "vMySb3H-rQ4a"
      },
      "source": [
        "import matplotlib.font_manager as fm\n",
        "\n",
        "font_dirs = ['/usr/share/fonts/truetype/nanum', ]\n",
        "font_files = fm.findSystemFonts(fontpaths=font_dirs)\n",
        "\n",
        "for font_file in font_files:\n",
        "    fm.fontManager.addfont(font_file)"
      ],
      "execution_count": null,
      "outputs": []
    },
    {
      "cell_type": "code",
      "metadata": {
        "id": "4-x2RCD2rQ6Z"
      },
      "source": [
        "plt.figure(figsize=(20,10))\n",
        "# 한글 출력을 위해서 폰트 옵션을 설정합니다.\n",
        "sns.set(font=\"NanumBarunGothic\", \n",
        "        rc={\"axes.unicode_minus\":False},\n",
        "        style='darkgrid')\n",
        "ax = sns.countplot(x=\"지역\", data=corona_del_col, palette=\"Set2\")"
      ],
      "execution_count": null,
      "outputs": []
    },
    {
      "cell_type": "code",
      "metadata": {
        "id": "qIHX77lbrQ8h"
      },
      "source": [
        "# replace 함수를 사용하여 해당 데이터를 변경합니다.\n",
        "# 이상치가 처리된 데이터이기에 새로운 Dataframe으로 저장합니다.\n",
        "corona_out_region = corona_del_col.replace({'종랑구':'중랑구', '한국':'기타'})"
      ],
      "execution_count": null,
      "outputs": []
    },
    {
      "cell_type": "code",
      "metadata": {
        "id": "O6A4w8FmrQ9z"
      },
      "source": [
        "# 이상치가 처리된 데이터를 다시 출력해 봅시다.\n",
        "plt.figure(figsize=(20,10))\n",
        "sns.set(font=\"NanumBarunGothic\", \n",
        "        rc={\"axes.unicode_minus\":False},\n",
        "        style='darkgrid')\n",
        "ax = sns.countplot(x=\"지역\", data=corona_out_region, palette=\"Set2\")"
      ],
      "execution_count": null,
      "outputs": []
    }
  ]
}