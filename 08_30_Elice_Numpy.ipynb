{
  "nbformat": 4,
  "nbformat_minor": 0,
  "metadata": {
    "colab": {
      "name": "08.30_Elice_Numpy",
      "provenance": [],
      "authorship_tag": "ABX9TyN+CuVzlVHjNQJrsDxY4Qp2",
      "include_colab_link": true
    },
    "kernelspec": {
      "name": "python3",
      "display_name": "Python 3"
    },
    "language_info": {
      "name": "python"
    }
  },
  "cells": [
    {
      "cell_type": "markdown",
      "metadata": {
        "id": "view-in-github",
        "colab_type": "text"
      },
      "source": [
        "<a href=\"https://colab.research.google.com/github/cocofafa/python_AI_study/blob/master/08_30_Elice_Numpy.ipynb\" target=\"_parent\"><img src=\"https://colab.research.google.com/assets/colab-badge.svg\" alt=\"Open In Colab\"/></a>"
      ]
    },
    {
      "cell_type": "code",
      "metadata": {
        "id": "N7dJn2ltCFeU"
      },
      "source": [
        "# 데이터의 대부분은 숫자 배열로 볼 수 있다."
      ],
      "execution_count": null,
      "outputs": []
    },
    {
      "cell_type": "code",
      "metadata": {
        "id": "vTm3s1ORKa5d"
      },
      "source": [
        "# 넘파이를 사용하는 이유\n",
        "\n",
        "# 반복문 없이 배열 처리가능 !\n",
        "#파이썬 리스트에 비해, 빠른연산을 지원하고 메모리를 효율적으로 사용"
      ],
      "execution_count": null,
      "outputs": []
    },
    {
      "cell_type": "code",
      "metadata": {
        "id": "ebIvefiGLHdc"
      },
      "source": [
        "import numpy as np\n",
        "\n",
        "\n",
        "# 0부터 4까지 연속적인 숫자가 들어있는 배열을 만들어 봅시다!\n",
        "array = np.array(range(5))\n",
        "\n",
        "print(array)\n"
      ],
      "execution_count": null,
      "outputs": []
    },
    {
      "cell_type": "code",
      "metadata": {
        "id": "uiw4BEn9Qyrm"
      },
      "source": [
        "#넘파이는 리스트와 다르게 단일 데이터 이다\n",
        "#리스트는 여러 데이터 가능 !\n",
        "\n"
      ],
      "execution_count": null,
      "outputs": []
    },
    {
      "cell_type": "code",
      "metadata": {
        "colab": {
          "base_uri": "https://localhost:8080/"
        },
        "id": "avp7MSJMTaUh",
        "outputId": "9ac9e164-3c00-43c7-a2c5-d04197e98176"
      },
      "source": [
        "import numpy as np\n",
        "\n",
        "print(\"1차원 array\")\n",
        "array = np.array(range(10))\n",
        "print(array)\n"
      ],
      "execution_count": 1,
      "outputs": [
        {
          "output_type": "stream",
          "text": [
            "1차원 array\n",
            "[0 1 2 3 4 5 6 7 8 9]\n"
          ],
          "name": "stdout"
        }
      ]
    },
    {
      "cell_type": "code",
      "metadata": {
        "id": "zd3L7tNJRZeR"
      },
      "source": [
        "print(type(array))\n",
        "\n",
        "print(array.ndim) #차원\n",
        "\n",
        "print(array.shape) #모양\n",
        "\n",
        "print(array.size) #z크기\n",
        "\n",
        "print(array.dtype) #넘파이 배열이 갖고 있는 요소의 자료형\n",
        "\n",
        "print(array[5])\n",
        "\n",
        "print(array[3:6])"
      ],
      "execution_count": null,
      "outputs": []
    },
    {
      "cell_type": "code",
      "metadata": {
        "id": "SKuOs9GdTCV6"
      },
      "source": [
        "import numpy as np\n",
        "\n",
        "print(\"2차원 array\")\n",
        "#1부터 15까지 들어있는 (3,5)짜리 배열을 만듭니다.\n",
        "matrix = np.array(range(1,16))\n",
        "matrix.shape = 3,5\n",
        "print(matrix)\n",
        "\n",
        "\n",
        "# 1. matrix의 자료형을 출력해보세요.\n",
        "print(type(matrix))\n",
        "# 2. matrix의 차원을 출력해보세요.\n",
        "\n",
        "print(matrix.ndim)\n",
        "# 3. matrix의 모양을 출력해보세요.\n",
        "print(matrix.shape)\n",
        "\n",
        "# 4. matrix의 크기를 출력해보세요.\n",
        "print(matrix.size)\n",
        "\n",
        "# 5. matrix의 dtype(data type)을 출력해보세요.\n",
        "print(matrix.dtype)\n",
        "# 6. matrix의 dtype을 str로 변경하여 출력해보세요.\n",
        "\n",
        "print(matrix.astype('str'))\n",
        "# 7. matrix의 (2,3) 인덱스의 요소를 출력해보세요.\n",
        "print(matrix[2,3])\n",
        "\n",
        "# 8. matrix의 행은 인덱스 0부터 인덱스 1까지, 열은 인덱스 1부터 인덱스 3까지 출력해보세요.\n",
        "print(matrix[0:2,1:4])\n"
      ],
      "execution_count": null,
      "outputs": []
    },
    {
      "cell_type": "code",
      "metadata": {
        "id": "XEOw1fJOTDJ3"
      },
      "source": [
        "#인덱싱 슬라이싱\n",
        "\n"
      ],
      "execution_count": null,
      "outputs": []
    },
    {
      "cell_type": "code",
      "metadata": {
        "id": "9GV3yajEZKxM"
      },
      "source": [
        "import numpy as np\n",
        "\n",
        "matrix = np.arange(1, 13, 1).reshape(3, 4)\n",
        "print(matrix)\n",
        "\n",
        "# 1. Indexing을 통해 값 2를 출력해보세요.\n",
        "answer1 = matrix[0,1]\n",
        "\n",
        "# 2. Slicing을 통해 매트릭스 일부인 9, 10을 가져와 출력해보세요.\n",
        "answer2 = matrix[2:,:2]\n",
        "\n",
        "# 3. Boolean indexing을 통해 5보다 작은 수를 찾아 출력해보세요.\n",
        "answer3 = matrix[matrix<5]\n",
        "\n",
        "# 4. Fancy indexing을 통해 두 번째 행만 추출하여 출력해보세요.\n",
        "answer4 = matrix[[1]]\n",
        "\n",
        "# 위에서 구한 정답을 출력해봅시다.\n",
        "print(answer1)\n",
        "print(answer2)\n",
        "print(answer3)\n",
        "print(answer4)"
      ],
      "execution_count": null,
      "outputs": []
    }
  ]
}