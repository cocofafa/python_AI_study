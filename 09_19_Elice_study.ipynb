{
  "nbformat": 4,
  "nbformat_minor": 0,
  "metadata": {
    "colab": {
      "name": "09.19_Elice_study",
      "provenance": [],
      "authorship_tag": "ABX9TyO0XtASINv9gKjwtRmchzRa",
      "include_colab_link": true
    },
    "kernelspec": {
      "name": "python3",
      "display_name": "Python 3"
    },
    "language_info": {
      "name": "python"
    }
  },
  "cells": [
    {
      "cell_type": "markdown",
      "metadata": {
        "id": "view-in-github",
        "colab_type": "text"
      },
      "source": [
        "<a href=\"https://colab.research.google.com/github/cocofafa/python_AI_study/blob/master/09_19_Elice_study.ipynb\" target=\"_parent\"><img src=\"https://colab.research.google.com/assets/colab-badge.svg\" alt=\"Open In Colab\"/></a>"
      ]
    },
    {
      "cell_type": "code",
      "metadata": {
        "id": "GirivHeY5hGL"
      },
      "source": [
        "# 해당 column을 지정하여 series 형태로 출력할 수 있습니다.\n",
        "corona_out_region['month'][corona_out_region['지역'] == '관악구']"
      ],
      "execution_count": null,
      "outputs": []
    },
    {
      "cell_type": "code",
      "metadata": {
        "id": "6oJZMq_a5t_D"
      },
      "source": [
        "# 그래프를 출력합니다.\n",
        "plt.figure(figsize=(10,5))\n",
        "sns.set(style=\"darkgrid\")\n",
        "ax = sns.countplot(x=\"month\", data=corona_out_region[corona_out_region['지역'] == '관악구'], palette=\"Set2\", order = order)"
      ],
      "execution_count": null,
      "outputs": []
    },
    {
      "cell_type": "code",
      "metadata": {
        "id": "dCvs8GeG5wjV"
      },
      "source": [
        "# 지도 출력을 위한 라이브러리 folium을 import 합니다.\n",
        "import folium\n",
        "\n",
        "# Map 함수를 사용하여 지도를 출력합니다.\n",
        "map_osm = folium.Map(location=[37.529622, 126.984307], zoom_start=11)\n",
        "\n",
        "map_osm"
      ],
      "execution_count": null,
      "outputs": []
    },
    {
      "cell_type": "code",
      "metadata": {
        "id": "KGTqT0IL5uA6"
      },
      "source": [
        "# CRS에 저장합니다.\n",
        "CRS=pd.read_csv(\"./data/서울시 행정구역 시군구 정보 (좌표계_ WGS1984).csv\")"
      ],
      "execution_count": null,
      "outputs": []
    },
    {
      "cell_type": "code",
      "metadata": {
        "id": "aP0vdrEy5uC6"
      },
      "source": [
        "# Dataframe을 출력해 봅니다.\n",
        "CRS"
      ],
      "execution_count": null,
      "outputs": []
    },
    {
      "cell_type": "code",
      "metadata": {
        "id": "feTy610f5uFC"
      },
      "source": [
        "CRS[CRS['시군구명_한글'] == '중구']"
      ],
      "execution_count": null,
      "outputs": []
    },
    {
      "cell_type": "code",
      "metadata": {
        "id": "oqYnQ5yv5uHD"
      },
      "source": [
        "# corona_out_region의 지역에는 'oo구' 이외로 `타시도`, `기타`에 해당되는 데이터가 존재 합니다.\n",
        "# 위 데이터에 해당되는 위도, 경도를 찾을 수 없기에 삭제하여 corona_seoul로 저장합니다.\n",
        "corona_seoul = corona_out_region.drop(corona_out_region[corona_out_region['지역'] == '타시도'].index)\n",
        "corona_seoul = corona_seoul.drop(corona_out_region[corona_out_region['지역'] == '기타'].index)\n",
        "\n",
        "# 서울 중심지 중구를 가운데 좌표로 잡아 지도를 출력합니다.\n",
        "map_osm = folium.Map(location=[37.557945, 126.99419], zoom_start=11)\n",
        "\n",
        "# 지역 정보를 set 함수를 사용하여 25개 고유의 지역을 뽑아냅니다.\n",
        "for region in set(corona_seoul['지역']):\n",
        "\n",
        "    # 해당 지역의 데이터 개수를 count에 저장합니다.\n",
        "    count = len(corona_seoul[corona_seoul['지역'] == region])\n",
        "    # 해당 지역의 데이터를 CRS에서 뽑아냅니다.\n",
        "    CRS_region = CRS[CRS['시군구명_한글'] == region]\n",
        "\n",
        "    # CircleMarker를 사용하여 지역마다 원형마커를 생성합니다.\n",
        "    marker = folium.CircleMarker([CRS_region['위도'], CRS_region['경도']], # 위치\n",
        "                                  radius"
      ],
      "execution_count": null,
      "outputs": []
    },
    {
      "cell_type": "code",
      "metadata": {
        "id": "JKZeG2BG5uJK"
      },
      "source": [
        " corona_out_region[corona_del_col['month'] == '6']['지역'].value_counts()"
      ],
      "execution_count": null,
      "outputs": []
    },
    {
      "cell_type": "code",
      "metadata": {
        "id": "omts6JDt5uK7"
      },
      "source": [
        "# 6월에 확진자가 가장 많이 나온 지역을 구하여 quiz_2 변수에 저장합니다.\n",
        "# 문자형으로 저장합니다.\n",
        "quiz_2 = None"
      ],
      "execution_count": null,
      "outputs": []
    },
    {
      "cell_type": "code",
      "metadata": {
        "id": "dwsSHmnI5uMq"
      },
      "source": [
        "d = {'quiz_1': [quiz_1], 'quiz_2': [quiz_2]}\n",
        "df_quiz = pd.DataFrame(data=d)\n",
        "df_quiz.to_csv(\"submission.csv\",index=False)"
      ],
      "execution_count": null,
      "outputs": []
    },
    {
      "cell_type": "code",
      "metadata": {
        "id": "V8yt8aZR55Qn"
      },
      "source": [
        "answer=pd.read_csv('submission.csv')\n",
        "answer.loc[0]['quiz_2']"
      ],
      "execution_count": null,
      "outputs": []
    },
    {
      "cell_type": "markdown",
      "metadata": {
        "id": "O0MQhe87551-"
      },
      "source": [
        ""
      ]
    },
    {
      "cell_type": "code",
      "metadata": {
        "id": "p5xUxcVg55Sn"
      },
      "source": [
        "# 채점을 수행하기 위하여 로그인\n",
        "import sys\n",
        "sys.path.append('vendor')\n",
        "from elice_challenge import check_score, upload"
      ],
      "execution_count": null,
      "outputs": []
    },
    {
      "cell_type": "code",
      "metadata": {
        "id": "uDqOhKBl55Un"
      },
      "source": [
        "# 제출 파일 업로드\n",
        "await upload()"
      ],
      "execution_count": null,
      "outputs": []
    },
    {
      "cell_type": "code",
      "metadata": {
        "id": "Bx2kJZN755WP"
      },
      "source": [
        "# 채점 수행\n",
        "await check_score()"
      ],
      "execution_count": null,
      "outputs": []
    }
  ]
}