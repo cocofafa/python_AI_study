{
  "nbformat": 4,
  "nbformat_minor": 0,
  "metadata": {
    "colab": {
      "name": "09.25 Elice_study",
      "provenance": [],
      "authorship_tag": "ABX9TyMKH+jy3u0LU6Q7CNp1IwKi",
      "include_colab_link": true
    },
    "kernelspec": {
      "name": "python3",
      "display_name": "Python 3"
    },
    "language_info": {
      "name": "python"
    }
  },
  "cells": [
    {
      "cell_type": "markdown",
      "metadata": {
        "id": "view-in-github",
        "colab_type": "text"
      },
      "source": [
        "<a href=\"https://colab.research.google.com/github/cocofafa/python_AI_study/blob/master/09_25_Elice_study.ipynb\" target=\"_parent\"><img src=\"https://colab.research.google.com/assets/colab-badge.svg\" alt=\"Open In Colab\"/></a>"
      ]
    },
    {
      "cell_type": "code",
      "metadata": {
        "id": "JAiY90_jS1kv"
      },
      "source": [
        "# 논리연산을 이용한 조건을 다음과 같이 사용하면 해당 조건에 맞는 데이터를 출력할 수 있습니다.\n",
        "df[df.recall_month.isin([10,11,12])].head()"
      ],
      "execution_count": null,
      "outputs": []
    },
    {
      "cell_type": "code",
      "metadata": {
        "id": "lp9lH22VS-1n"
      },
      "source": [
        "# 그래프를 출력합니다.\n",
        "plt.figure(figsize=(20,10))\n",
        "sns.set(font=\"NanumBarunGothic\", \n",
        "        rc={\"axes.unicode_minus\":False},\n",
        "        style='darkgrid')\n",
        "ax = sns.countplot(x=\"manufacturer\", data=df[df.recall_month.isin([10,11,12])], palette=\"Set2\")\n",
        "plt.xticks(rotation=270)\n",
        "plt.show()"
      ],
      "execution_count": null,
      "outputs": []
    },
    {
      "cell_type": "code",
      "metadata": {
        "id": "i86PNOOgS-3g"
      },
      "source": [
        "# 해당 column을 지정하여 series 형태로 출력할 수 있습니다.\n",
        "df[df.recall_month>=7].head()"
      ],
      "execution_count": null,
      "outputs": []
    },
    {
      "cell_type": "code",
      "metadata": {
        "id": "8pFlsJvpS-5j"
      },
      "source": [
        "# 그래프를 출력합니다.\n",
        "plt.figure(figsize=(10,5))\n",
        "sns.set(style=\"darkgrid\")\n",
        "ax = sns.countplot(x=\"start_year\", data=df[df.recall_month>=7], palette=\"Set2\")\n",
        "plt.show()"
      ],
      "execution_count": null,
      "outputs": []
    },
    {
      "cell_type": "code",
      "metadata": {
        "id": "n2OwqP2gS-7l"
      },
      "source": [
        "# 워드 클라우드 생성을 도와주는 패키지를 가져옵니다.\n",
        "try:\n",
        "    from wordcloud import WordCloud, STOPWORDS\n",
        "except:\n",
        "    !pip install wordcloud\n",
        "    from wordcloud import WordCloud, STOPWORDS"
      ],
      "execution_count": null,
      "outputs": []
    },
    {
      "cell_type": "code",
      "metadata": {
        "id": "xC4RFDWdS-9s"
      },
      "source": [
        "# 문법적인 성분들을 배제하기 위해 stopwords들을 따로 저장해둡니다.\n",
        "set(STOPWORDS)"
      ],
      "execution_count": null,
      "outputs": []
    },
    {
      "cell_type": "code",
      "metadata": {
        "id": "-_gIKuHaS-_h"
      },
      "source": [
        "# 손으로 직접 리콜 사유와 관련이 적은 문법적 어구들을 배제해보겠습니다.\n",
        "spwords = set([\"동안\", \"인하여\", \"있는\", \"경우\", \"있습니다\", \"가능성이\", \"않을\", \"차량의\", \"가\", \"에\", \"될\", \"이\",\n",
        "               \"인해\", \"수\", \"중\", \"시\", \"또는\", \"있음\", \"의\", \"및\", \"있으며\", \"발생할\", \"이로\", \"오류로\", \"해당\"])"
      ],
      "execution_count": null,
      "outputs": []
    },
    {
      "cell_type": "code",
      "metadata": {
        "id": "jDkj8qdJS_Bh"
      },
      "source": [
        "# 리콜 사유에 해당하는 열의 값들을 중복 제거한 뒤 모두 이어붙여서 text라는 문자열로 저장합니다.\n",
        "text = \"\"\n",
        "\n",
        "for c in df.cause.drop_duplicates():\n",
        "    text += c\n",
        "\n",
        "text[:100]"
      ],
      "execution_count": null,
      "outputs": []
    },
    {
      "cell_type": "code",
      "metadata": {
        "id": "-PeWauWBS_Da"
      },
      "source": [
        "wc1 = WordCloud(max_font_size=200, stopwords=spwords, font_path='/usr/share/fonts/truetype/nanum/NanumGothic.ttf',\n",
        "                background_color='white', width=800, height=800)\n",
        "wc1.generate(text)\n",
        "\n",
        "plt.figure(figsize=(10, 8))\n",
        "plt.imshow(wc1)\n",
        "plt.tight_layout(pad=0)\n",
        "plt.axis('off')\n",
        "plt.show()"
      ],
      "execution_count": null,
      "outputs": []
    }
  ]
}