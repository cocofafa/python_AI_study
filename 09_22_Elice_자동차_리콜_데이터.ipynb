{
  "nbformat": 4,
  "nbformat_minor": 0,
  "metadata": {
    "colab": {
      "name": "09.22_Elice_자동차 리콜 데이터",
      "provenance": [],
      "authorship_tag": "ABX9TyMAT+g4e7YgHmaf9B5bxzjY",
      "include_colab_link": true
    },
    "kernelspec": {
      "name": "python3",
      "display_name": "Python 3"
    },
    "language_info": {
      "name": "python"
    }
  },
  "cells": [
    {
      "cell_type": "markdown",
      "metadata": {
        "id": "view-in-github",
        "colab_type": "text"
      },
      "source": [
        "<a href=\"https://colab.research.google.com/github/cocofafa/python_AI_study/blob/master/09_22_Elice_%EC%9E%90%EB%8F%99%EC%B0%A8_%EB%A6%AC%EC%BD%9C_%EB%8D%B0%EC%9D%B4%ED%84%B0.ipynb\" target=\"_parent\"><img src=\"https://colab.research.google.com/assets/colab-badge.svg\" alt=\"Open In Colab\"/></a>"
      ]
    },
    {
      "cell_type": "code",
      "metadata": {
        "id": "isPeTdwiuorx"
      },
      "source": [
        "import numpy as np \n",
        "import pandas as pd \n",
        "import matplotlib.pyplot as plt\n",
        "!pip install seaborn==0.9.0\n",
        "import seaborn as sns\n",
        "print(sns.__version__)\n",
        "# missingno라는 라이브러리가 설치되어 있을 경우 import\n",
        "try: \n",
        "    import missingno as msno\n",
        "# missingno라는 라이브러리가 설치되어 있지 않을 경우 설치 후 import\n",
        "except: \n",
        "    !pip install missingno\n",
        "    import missingno as msno"
      ],
      "execution_count": null,
      "outputs": []
    },
    {
      "cell_type": "code",
      "metadata": {
        "id": "bxaYyOQOu40M"
      },
      "source": [
        "# pd.read_csv를 통하여 dataframe 형태로 읽어옵니다.\n",
        "df = pd.read_csv(\"./data/한국교통안전공단_자동차결함 리콜현황_20201231.csv\", encoding=\"euc-kr\")"
      ],
      "execution_count": null,
      "outputs": []
    },
    {
      "cell_type": "code",
      "metadata": {
        "id": "bkTc5DBzu42b"
      },
      "source": [
        "# 상위 5개 데이터를 출력합니다.\n",
        "df.head()"
      ],
      "execution_count": null,
      "outputs": []
    },
    {
      "cell_type": "code",
      "metadata": {
        "id": "MExu41UJu44r"
      },
      "source": [
        "# 상위 10개 데이터를 출력합니다.\n",
        "df.head(10)"
      ],
      "execution_count": null,
      "outputs": []
    },
    {
      "cell_type": "code",
      "metadata": {
        "id": "H9wuopB3u462"
      },
      "source": [
        "# 하위 5개 데이터를 출력합니다.\n",
        "df.tail()"
      ],
      "execution_count": null,
      "outputs": []
    },
    {
      "cell_type": "code",
      "metadata": {
        "id": "zykqrkyiu49E"
      },
      "source": [
        "# dataframe 정보를 요약하여 출력합니다. \n",
        "df.info()"
      ],
      "execution_count": null,
      "outputs": []
    },
    {
      "cell_type": "code",
      "metadata": {
        "id": "rtSr8MBVu4-9"
      },
      "source": [
        "import matplotlib.font_manager as fm\n",
        "\n",
        "font_dirs = ['/usr/share/fonts/truetype/nanum', ]\n",
        "font_files = fm.findSystemFonts(fontpaths=font_dirs)\n",
        "\n",
        "for font_file in font_files:\n",
        "    fm.fontManager.addfont(font_file)"
      ],
      "execution_count": null,
      "outputs": []
    },
    {
      "cell_type": "code",
      "metadata": {
        "id": "HwvddhJwu5A6"
      },
      "source": [
        "sns.set(font=\"NanumBarunGothic\", \n",
        "        rc={\"axes.unicode_minus\":False})\n",
        "msno.matrix(df)\n",
        "plt.show()"
      ],
      "execution_count": null,
      "outputs": []
    },
    {
      "cell_type": "code",
      "metadata": {
        "id": "7n3qhfLlvBiG"
      },
      "source": [
        "# 각 열 별로 결측치의 갯수를 반환합니다. (True:1, False:0)\n",
        "df.isna().sum() "
      ],
      "execution_count": null,
      "outputs": []
    },
    {
      "cell_type": "code",
      "metadata": {
        "id": "3AwkqPRYvBkN"
      },
      "source": [
        "df[df.duplicated(keep=False)]"
      ],
      "execution_count": null,
      "outputs": []
    },
    {
      "cell_type": "code",
      "metadata": {
        "id": "NWrOLbspvBn0"
      },
      "source": [
        "print(\"Before:\", len(df))\n",
        "df = df.drop_duplicates()\n",
        "print(\"After:\", len(df))"
      ],
      "execution_count": null,
      "outputs": []
    },
    {
      "cell_type": "code",
      "metadata": {
        "id": "u-mESthHvBpz"
      },
      "source": [
        "def parse_year(s):\n",
        "    return int(s[:4])\n",
        "def parse_month(s):\n",
        "    return int(s[5:7])\n",
        "def parse_day(s):\n",
        "    return int(s[8:])\n",
        "\n",
        "# Pandas DataFrame에서는 row별로 loop를 도는 것이 굉장히 느리기 때문에, apply() 함수를 이용하여 벡터 연산을 진행합니다.\n",
        "df['start_year'] = df['생산기간'].apply(parse_year)\n",
        "df['start_month'] = df['생산기간'].apply(parse_month)\n",
        "df['start_day'] = df['생산기간'].apply(parse_day)\n",
        "\n",
        "df['end_year'] = df['생산기간.1'].apply(parse_year)\n",
        "df['end_month'] = df['생산기간.1'].apply(parse_month)\n",
        "df['end_day'] = df['생산기간.1'].apply(parse_day)\n",
        "\n",
        "df['recall_year'] = df['리콜개시일'].apply(parse_year)\n",
        "df['recall_month'] = df['리콜개시일'].apply(parse_month)\n",
        "df['recall_day'] = df['리콜개시일'].apply(parse_day)\n"
      ],
      "execution_count": null,
      "outputs": []
    },
    {
      "cell_type": "code",
      "metadata": {
        "id": "5RT3M1pDvF1M"
      },
      "source": [
        "# 불필요한 열은 버리고, 열 이름을 재정의합니다.\n",
        "df = df.drop(columns=['생산기간', '생산기간.1', '리콜개시일']).rename(columns={'제작자': \"manufacturer\", \"차명\": \"model\", \"리콜사유\": \"cause\"})\n",
        "df.head(3)"
      ],
      "execution_count": null,
      "outputs": []
    },
    {
      "cell_type": "code",
      "metadata": {
        "id": "T5QWO9e9vF3T"
      },
      "source": [
        "# 2019년의 데이터가 함께 존재함을 알 수 있습니다.\n",
        "df.recall_year.min(), df.recall_year.max()"
      ],
      "execution_count": null,
      "outputs": []
    },
    {
      "cell_type": "code",
      "metadata": {
        "id": "EThoO6bivF5T"
      },
      "source": [
        "# 2020년의 데이터만을 남겨줍니다.\n",
        "df = df[df['recall_year']==2020]\n",
        "len(df)"
      ],
      "execution_count": null,
      "outputs": []
    }
  ]
}