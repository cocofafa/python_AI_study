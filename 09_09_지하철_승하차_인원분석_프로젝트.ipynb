{
  "nbformat": 4,
  "nbformat_minor": 0,
  "metadata": {
    "colab": {
      "name": "09.09 지하철 승하차 인원분석 프로젝트",
      "provenance": [],
      "authorship_tag": "ABX9TyOfsjACaCxgf8LQ9ZxmMBEW",
      "include_colab_link": true
    },
    "kernelspec": {
      "name": "python3",
      "display_name": "Python 3"
    },
    "language_info": {
      "name": "python"
    }
  },
  "cells": [
    {
      "cell_type": "markdown",
      "metadata": {
        "id": "view-in-github",
        "colab_type": "text"
      },
      "source": [
        "<a href=\"https://colab.research.google.com/github/cocofafa/python_AI_study/blob/master/09_09_%EC%A7%80%ED%95%98%EC%B2%A0_%EC%8A%B9%ED%95%98%EC%B0%A8_%EC%9D%B8%EC%9B%90%EB%B6%84%EC%84%9D_%ED%94%84%EB%A1%9C%EC%A0%9D%ED%8A%B8.ipynb\" target=\"_parent\"><img src=\"https://colab.research.google.com/assets/colab-badge.svg\" alt=\"Open In Colab\"/></a>"
      ]
    },
    {
      "cell_type": "code",
      "metadata": {
        "id": "cczdXgE1_erT"
      },
      "source": [
        "import numpy as np \n",
        "import pandas as pd \n",
        "import matplotlib.pyplot as plt"
      ],
      "execution_count": null,
      "outputs": []
    },
    {
      "cell_type": "code",
      "metadata": {
        "id": "fcjksfpH_i61"
      },
      "source": [
        "# pd.read_csv를 통하여 승하차 인원 정보 데이터를 데이터프레임 형태로 읽어옵니다.\n",
        "metro_all = pd.read_csv(\"./data/서울시 지하철 호선별 역별 시간대별 승하차 인원 정보_20210705.csv\", encoding = 'cp949')"
      ],
      "execution_count": null,
      "outputs": []
    },
    {
      "cell_type": "code",
      "metadata": {
        "id": "6VjtxYFQ_ksB"
      },
      "source": [
        "# 승하차 인원 정보 상위 5개 데이터를 출력합니다.\n",
        "metro_all.head()"
      ],
      "execution_count": null,
      "outputs": []
    },
    {
      "cell_type": "code",
      "metadata": {
        "id": "LJZzMTU4_lGd"
      },
      "source": [
        "# 승하차 인원 정보 데이터프레임 정보를 요약하여 출력합니다. \n",
        "metro_all.info()"
      ],
      "execution_count": null,
      "outputs": []
    },
    {
      "cell_type": "code",
      "metadata": {
        "id": "NF81YIoS_lJ1"
      },
      "source": [
        "# metro_all DataFrame 사용월 데이터 확인\n",
        "sorted(list(set(metro_all['사용월'])))"
      ],
      "execution_count": null,
      "outputs": []
    },
    {
      "cell_type": "code",
      "metadata": {
        "id": "GTYzmD6b_nRU"
      },
      "source": [
        "# metro_all DataFrame 호선명 데이터 확인\n",
        "sorted(list(set(metro_all['호선명'])))"
      ],
      "execution_count": null,
      "outputs": []
    },
    {
      "cell_type": "code",
      "metadata": {
        "id": "8fA2kHm8_lME"
      },
      "source": [
        "# DataFrame 지하철역 데이터 확인\n",
        "sorted(list(set(metro_all['지하철역'])))"
      ],
      "execution_count": null,
      "outputs": []
    },
    {
      "cell_type": "code",
      "metadata": {
        "id": "j1maueja_lOO"
      },
      "source": [
        "# DataFrame 지하철역 데이터 개수 확인\n",
        "len(list(set(metro_all['지하철역'])))"
      ],
      "execution_count": null,
      "outputs": []
    },
    {
      "cell_type": "code",
      "metadata": {
        "id": "aV2cF8fr_p31"
      },
      "source": [
        "# 2021년 6월 총 승객수만 추출\n",
        "metro_recent = metro_all[metro_all['사용월']==202106]\n",
        "metro_recent"
      ],
      "execution_count": null,
      "outputs": []
    },
    {
      "cell_type": "code",
      "metadata": {
        "id": "bLs_HQpk_qZN"
      },
      "source": [
        "# 불필요한 작업일자 컬럼 제거\n",
        "metro_recent = metro_recent.drop(columns={'작업일자'})\n",
        "metro_recent"
      ],
      "execution_count": null,
      "outputs": []
    },
    {
      "cell_type": "code",
      "metadata": {
        "id": "-sUf0BQ7_rSN"
      },
      "source": [
        "import matplotlib.font_manager as fm\n",
        "\n",
        "font_dirs = ['/usr/share/fonts/truetype/nanum', ]\n",
        "font_files = fm.findSystemFonts(fontpaths=font_dirs)\n",
        "\n",
        "for font_file in font_files:\n",
        "    fm.fontManager.addfont(font_file)"
      ],
      "execution_count": null,
      "outputs": []
    },
    {
      "cell_type": "code",
      "metadata": {
        "id": "nfVH4iD6_suN"
      },
      "source": [
        "metro_line = metro_recent.groupby(['호선명']).mean().reset_index()\n",
        "metro_line = metro_line.drop(columns='사용월').set_index('호선명')\n",
        "metro_line = metro_line.mean(axis=1).sort_values(ascending=False)\n",
        "\n",
        "plt.figure(figsize=(20,10))\n",
        "plt.rc('font', family=\"NanumBarunGothic\")\n",
        "plt.rcParams['axes.unicode_minus'] = False\n",
        "\n",
        "metro_line.plot(kind=('bar'))\n",
        "plt.show()"
      ],
      "execution_count": null,
      "outputs": []
    },
    {
      "cell_type": "code",
      "metadata": {
        "id": "K_yBjxX1_tos"
      },
      "source": [
        ""
      ],
      "execution_count": null,
      "outputs": []
    }
  ]
}