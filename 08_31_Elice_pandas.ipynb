{
  "nbformat": 4,
  "nbformat_minor": 0,
  "metadata": {
    "colab": {
      "name": "08.31_Elice_pandas",
      "provenance": [],
      "authorship_tag": "ABX9TyOoAKhVAIow+miSYv0rbGWP",
      "include_colab_link": true
    },
    "kernelspec": {
      "name": "python3",
      "display_name": "Python 3"
    },
    "language_info": {
      "name": "python"
    }
  },
  "cells": [
    {
      "cell_type": "markdown",
      "metadata": {
        "id": "view-in-github",
        "colab_type": "text"
      },
      "source": [
        "<a href=\"https://colab.research.google.com/github/cocofafa/python_AI_study/blob/master/08_31_Elice_pandas.ipynb\" target=\"_parent\"><img src=\"https://colab.research.google.com/assets/colab-badge.svg\" alt=\"Open In Colab\"/></a>"
      ]
    },
    {
      "cell_type": "code",
      "metadata": {
        "id": "nEH3I4ZNsVWw"
      },
      "source": [
        "# 2차원 , 대용량 데이터에 적합\n",
        "\n"
      ],
      "execution_count": null,
      "outputs": []
    },
    {
      "cell_type": "code",
      "metadata": {
        "id": "rNEKilcy0NVX"
      },
      "source": [
        "import numpy as np\n",
        "import pandas as pd\n",
        "\n",
        "# 예시) 시리즈 데이터를 만드는 방법.\n",
        "series = pd.Series([1,2,3,4], index = ['a', 'b', 'c', 'd'], name=\"Title\")\n",
        "print(series, \"\\n\")\n",
        "\n",
        "\n",
        "# 국가별 인구 수 시리즈 데이터를 딕셔너리를 사용하여 만들어보세요.\n",
        "\n",
        "--------------\n",
        "dict = {\n",
        "\n",
        "\"korea\" : 5180,\n",
        "\"japan\" : 12718,\n",
        "\"china\" : 141500,\n",
        "\"usa\" : 32676\n",
        "\n",
        "}\n",
        "\n",
        "country = pd.Series(dict)\n",
        "print(country)"
      ],
      "execution_count": null,
      "outputs": []
    },
    {
      "cell_type": "code",
      "metadata": {
        "id": "HkLipnsM0OB3"
      },
      "source": [
        "# 데이터 프레임   여러가지 컬럼 합치기!\n",
        "\n",
        "import numpy as np\n",
        "import pandas as pd\n",
        "\n",
        "# 두 개의 시리즈 데이터가 있습니다.\n",
        "print(\"Population series data:\")\n",
        "population_dict = {\n",
        "    'korea': 5180,\n",
        "    'japan': 12718,\n",
        "    'china': 141500,\n",
        "    'usa': 32676\n",
        "}\n",
        "population = pd.Series(population_dict)\n",
        "print(population, \"\\n\")\n",
        "\n",
        "print(\"GDP series data:\")\n",
        "gdp_dict = {\n",
        "    'korea': 169320000,\n",
        "    'japan': 516700000,\n",
        "    'china': 1409250000,\n",
        "    'usa': 2041280000,\n",
        "}\n",
        "gdp = pd.Series(gdp_dict)\n",
        "print(gdp, \"\\n\")\n",
        "\n",
        "\n",
        "# 이곳에서 2개의 시리즈 값이 들어간 데이터프레임을 생성합니다.\n",
        "\n",
        "\n",
        "print(\"Country DataFrame\")\n",
        "country = pd.DataFrame({\n",
        "'population': population,\n",
        "'gdp' : gdp\n",
        "})\n",
        "\n",
        "print(country)\n",
        "\n",
        "\n"
      ],
      "execution_count": null,
      "outputs": []
    },
    {
      "cell_type": "code",
      "metadata": {
        "id": "YNHQMoFP5Wm0"
      },
      "source": [
        "# 데이터 선택 및 변경하기\n",
        "\n",
        "\n"
      ],
      "execution_count": null,
      "outputs": []
    },
    {
      "cell_type": "code",
      "metadata": {
        "id": "7aTndTyF-5Tr"
      },
      "source": [
        "import numpy as np\n",
        "import pandas as pd\n",
        "\n",
        "print(\"Masking & query\")\n",
        "df = pd.DataFrame(np.random.rand(5, 2), columns=[\"A\", \"B\"])\n",
        "print(df, \"\\n\")\n",
        "\n",
        "# 데이터 프레임에서 A컬럼값이 0.5보다 작고 B컬럼 값이 0.3보다 큰값들을 구해봅시다.\n",
        "# 마스킹 연산을 활용하여 출력해보세요!\n",
        "\n",
        "print(df[(df['A']<0.5) & (df['B']>0.3)])\n",
        "\n",
        "# query 함수를 활용하여 출력해보세요!\n",
        "\n",
        "print(df.query(\"A<0.5 and B>0.3\"))\n"
      ],
      "execution_count": null,
      "outputs": []
    },
    {
      "cell_type": "code",
      "metadata": {
        "id": "40Lsfoh2C7R4"
      },
      "source": [
        "import numpy as np\n",
        "import pandas as pd\n",
        "\n",
        "# GDP와 인구수 시리즈 값이 들어간 데이터프레임을 생성합니다.\n",
        "population = pd.Series({'korea': 5180,'japan': 12718,'china': 141500,'usa': 32676})\n",
        "gdp = pd.Series({'korea': 169320000,'japan': 516700000,'china': 1409250000,'usa': 2041280000})\n",
        "print(\"Country DataFrame\")\n",
        "country = pd.DataFrame({\"population\" : population,\"gdp\" : gdp})\n",
        "print(country)\n",
        "\n",
        "\n",
        "# 데이터프레임에 gdp per capita 칼럼을 추가하고 출력합니다.\n",
        "\n",
        "\n",
        "gdp_per_capita = country['gdp'] / country['population']\n",
        "country['gdp_per_capita'] = gdp_per_capita\n",
        "print(country)"
      ],
      "execution_count": null,
      "outputs": []
    },
    {
      "cell_type": "code",
      "metadata": {
        "id": "xtUTlSHVDpHT"
      },
      "source": [
        ""
      ],
      "execution_count": null,
      "outputs": []
    }
  ]
}