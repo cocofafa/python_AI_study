{
  "nbformat": 4,
  "nbformat_minor": 0,
  "metadata": {
    "colab": {
      "name": "생활코딩 _ web1 _ 11강 문법속성",
      "provenance": [],
      "authorship_tag": "ABX9TyNJphMuFtTEZXfVyNGr7L4D",
      "include_colab_link": true
    },
    "kernelspec": {
      "name": "python3",
      "display_name": "Python 3"
    },
    "language_info": {
      "name": "python"
    }
  },
  "cells": [
    {
      "cell_type": "markdown",
      "metadata": {
        "id": "view-in-github",
        "colab_type": "text"
      },
      "source": [
        "<a href=\"https://colab.research.google.com/github/cocofafa/python_AI_study/blob/master/%EC%83%9D%ED%99%9C%EC%BD%94%EB%94%A9___web1___11%EA%B0%95_%EB%AC%B8%EB%B2%95%EC%86%8D%EC%84%B1.ipynb\" target=\"_parent\"><img src=\"https://colab.research.google.com/assets/colab-badge.svg\" alt=\"Open In Colab\"/></a>"
      ]
    },
    {
      "cell_type": "code",
      "metadata": {
        "id": "hzIjAAOW2tGH"
      },
      "source": [
        "\"\"\"\n",
        "\n",
        "### img 태그\n",
        "\n",
        "\n",
        "<img src=\"coding.jpg\" width=\"100%\"> 태그\n",
        "     source\n",
        "#unsplash _ 이미지 사이트\n",
        "\n",
        "\n",
        "\"\"\"\n"
      ],
      "execution_count": null,
      "outputs": []
    },
    {
      "cell_type": "code",
      "metadata": {
        "id": "8x_Ww1ig3ieO"
      },
      "source": [
        "\"\"\"\n",
        "\n",
        "\n",
        "12강\n",
        "\n",
        "\n",
        "# 웹에서 목차 만들기\n",
        "\n",
        "<parent>\n",
        "  <child></child>\n",
        "</parent>\n",
        "\n",
        "<Li>  </Li> 태그의 부모는 -> <ul>   </ul>\n",
        "\n",
        "\n",
        "<ul> (<ol> 자동으로 숫자 배정)\n",
        "  <Li></Li>\n",
        "</ul>\n",
        "\n",
        "Li, ul 태그는 반드시 부모와 자식으로서 같이 있어야한다.\n",
        "\n",
        "\n",
        "\n",
        "\n",
        "\n",
        "\n",
        "\"\"\""
      ],
      "execution_count": null,
      "outputs": []
    },
    {
      "cell_type": "code",
      "metadata": {
        "id": "Xyz3kqqR5gZ6"
      },
      "source": [
        "\"\"\"\n",
        "\n",
        "13강\n",
        "\n",
        "<meta charset=\"utf-8\">\n",
        "한국어로 문자를 읽어오라고 브라우저에 명령하는 코드\n",
        "\n",
        "본문은 <body>로 하기로 약속 \n",
        "\n",
        "<head>\n",
        "<body>\n",
        "\n",
        "를 감쌀수 있는 태그는 <html>태그 뿐\n",
        "\n",
        "\n",
        "\n",
        "\n",
        "\n",
        "\n",
        "\n",
        "\"\"\"\n"
      ],
      "execution_count": null,
      "outputs": []
    }
  ]
}