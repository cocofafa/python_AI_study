{
  "nbformat": 4,
  "nbformat_minor": 0,
  "metadata": {
    "colab": {
      "name": "ELICE_ML_데이터 전처리 하기 (응용)",
      "provenance": [],
      "authorship_tag": "ABX9TyMSUeESUX0At7McJru6hXz8",
      "include_colab_link": true
    },
    "kernelspec": {
      "name": "python3",
      "display_name": "Python 3"
    },
    "language_info": {
      "name": "python"
    }
  },
  "cells": [
    {
      "cell_type": "markdown",
      "metadata": {
        "id": "view-in-github",
        "colab_type": "text"
      },
      "source": [
        "<a href=\"https://colab.research.google.com/github/cocofafa/python_AI_study/blob/master/ELICE_ML_%EB%8D%B0%EC%9D%B4%ED%84%B0_%EC%A0%84%EC%B2%98%EB%A6%AC_%ED%95%98%EA%B8%B0_(%EC%9D%91%EC%9A%A9).ipynb\" target=\"_parent\"><img src=\"https://colab.research.google.com/assets/colab-badge.svg\" alt=\"Open In Colab\"/></a>"
      ]
    },
    {
      "cell_type": "code",
      "metadata": {
        "id": "SzZuvv81Y3Vf"
      },
      "source": [
        "###왜 데이터 전처리가 필요할까?\n",
        "\n",
        "\"\"\"\n",
        "범주형 데이터를 수치형 데이터로 바꿔준다.(대부분 머신러닝은 숫자형으로 데이터를 입력 받는다.)\n",
        "\n",
        "데이터 정제 - 결측값(NAN) 이상치 없애주기\n",
        "\n",
        "데이터 분리 - 학습용, 평가용 분리\n",
        "\n",
        "\n",
        "\n",
        "\"\"\""
      ],
      "execution_count": null,
      "outputs": []
    },
    {
      "cell_type": "code",
      "metadata": {
        "colab": {
          "base_uri": "https://localhost:8080/",
          "height": 390
        },
        "id": "HqMdllRNdKof",
        "outputId": "4e982386-7ff4-46d7-a6e3-76cc95508607"
      },
      "source": [
        "'''명목형 자료 변환하기 - 수치 맵핑\n",
        "머신러닝의 입력으로 사용하기 위하여 명목형 자료를 수치형 자료로 변환할 필요가 있습니다.\n",
        "\n",
        "titanic 데이터에서 범주형 자료인 성별(Sex) 데이터는 male, female 값을 가지고 있습니다. 이를 0, 1 인 수치형 자료로 변환해 봅시다.\n",
        "\n",
        "pandas의 DataFrame에서 이를 수행하기 위하여 replace를 사용합니다. 아래는 A -> B, C->D,… 변환하는 코드입니다.\n",
        "\n",
        "DataFrame.replace({A:B, C:D,...})\n",
        "Copy\n",
        "titanic 데이터 구성\n",
        "image\n",
        "\n",
        "\n",
        "지시사항\n",
        "성별(‘Sex’) 변수에서 male 데이터는 0, female 데이터는 1로 변환하여 titanic 데이터프레임에 저장해 봅시다.\n",
        "상단 보조자료에서 실습 해설 강의를 들을 수 있으니, 학습에 참고해보세요.'''\n",
        "\n",
        "\n",
        "import pandas as pd\n",
        "from elice_utils import EliceUtils\n",
        "\n",
        "elice_utils = EliceUtils()\n",
        "\n",
        "\n",
        "# 데이터를 읽어옵니다.\n",
        "titanic = pd.read_csv('./data/titanic.csv')\n",
        "print('변환 전: \\n',titanic['Sex'].head())\n",
        "\n",
        "\"\"\"\n",
        "1. replace를 사용하여 male -> 0, female -> 1로 변환합니다.\n",
        "\"\"\"\n",
        "titanic = titanic.replace({'male':0, 'female':1})\n",
        "\n",
        "# 변환한 성별 데이터를 출력합니다.\n",
        "print('\\n변환 후: \\n',titanic['Sex'].head())\n",
        "    \n",
        "\n"
      ],
      "execution_count": 1,
      "outputs": [
        {
          "output_type": "error",
          "ename": "ModuleNotFoundError",
          "evalue": "ignored",
          "traceback": [
            "\u001b[0;31m---------------------------------------------------------------------------\u001b[0m",
            "\u001b[0;31mModuleNotFoundError\u001b[0m                       Traceback (most recent call last)",
            "\u001b[0;32m<ipython-input-1-ac5a454693ad>\u001b[0m in \u001b[0;36m<module>\u001b[0;34m()\u001b[0m\n\u001b[1;32m     18\u001b[0m \u001b[0;34m\u001b[0m\u001b[0m\n\u001b[1;32m     19\u001b[0m \u001b[0;32mimport\u001b[0m \u001b[0mpandas\u001b[0m \u001b[0;32mas\u001b[0m \u001b[0mpd\u001b[0m\u001b[0;34m\u001b[0m\u001b[0;34m\u001b[0m\u001b[0m\n\u001b[0;32m---> 20\u001b[0;31m \u001b[0;32mfrom\u001b[0m \u001b[0melice_utils\u001b[0m \u001b[0;32mimport\u001b[0m \u001b[0mEliceUtils\u001b[0m\u001b[0;34m\u001b[0m\u001b[0;34m\u001b[0m\u001b[0m\n\u001b[0m\u001b[1;32m     21\u001b[0m \u001b[0;34m\u001b[0m\u001b[0m\n\u001b[1;32m     22\u001b[0m \u001b[0melice_utils\u001b[0m \u001b[0;34m=\u001b[0m \u001b[0mEliceUtils\u001b[0m\u001b[0;34m(\u001b[0m\u001b[0;34m)\u001b[0m\u001b[0;34m\u001b[0m\u001b[0;34m\u001b[0m\u001b[0m\n",
            "\u001b[0;31mModuleNotFoundError\u001b[0m: No module named 'elice_utils'",
            "",
            "\u001b[0;31m---------------------------------------------------------------------------\u001b[0;32m\nNOTE: If your import is failing due to a missing package, you can\nmanually install dependencies using either !pip or !apt.\n\nTo view examples of installing some common dependencies, click the\n\"Open Examples\" button below.\n\u001b[0;31m---------------------------------------------------------------------------\u001b[0m\n"
          ],
          "errorDetails": {
            "actions": [
              {
                "action": "open_url",
                "actionText": "Open Examples",
                "url": "/notebooks/snippets/importing_libraries.ipynb"
              }
            ]
          }
        }
      ]
    },
    {
      "cell_type": "code",
      "metadata": {
        "id": "fN0JxdOadV0O"
      },
      "source": [
        ""
      ],
      "execution_count": null,
      "outputs": []
    },
    {
      "cell_type": "code",
      "metadata": {
        "id": "rZ5U3J9fdZkm"
      },
      "source": [
        ""
      ],
      "execution_count": null,
      "outputs": []
    }
  ]
}