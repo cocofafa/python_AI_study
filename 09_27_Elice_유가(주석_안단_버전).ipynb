{
  "nbformat": 4,
  "nbformat_minor": 0,
  "metadata": {
    "colab": {
      "name": "09.27_Elice_유가(주석 안단 버전)",
      "provenance": [],
      "authorship_tag": "ABX9TyMA0mKFiCI7oPLSlMm1I9gY",
      "include_colab_link": true
    },
    "kernelspec": {
      "name": "python3",
      "display_name": "Python 3"
    },
    "language_info": {
      "name": "python"
    }
  },
  "cells": [
    {
      "cell_type": "markdown",
      "metadata": {
        "id": "view-in-github",
        "colab_type": "text"
      },
      "source": [
        "<a href=\"https://colab.research.google.com/github/cocofafa/python_AI_study/blob/master/09_27_Elice_%EC%9C%A0%EA%B0%80(%EC%A3%BC%EC%84%9D_%EC%95%88%EB%8B%A8_%EB%B2%84%EC%A0%84).ipynb\" target=\"_parent\"><img src=\"https://colab.research.google.com/assets/colab-badge.svg\" alt=\"Open In Colab\"/></a>"
      ]
    },
    {
      "cell_type": "code",
      "metadata": {
        "id": "ipKSZpBxqHXA"
      },
      "source": [
        "import numpy as np \n",
        "import pandas as pd \n",
        "import seaborn as sns\n",
        "sns.set_style('darkgrid')\n",
        "import matplotlib.pyplot as plt\n",
        "import matplotlib.font_manager as fm\n",
        "\n",
        "font_dirs = ['/usr/share/fonts/truetype/nanum', ]\n",
        "font_files = fm.findSystemFonts(fontpaths=font_dirs)\n",
        "for font_file in font_files:\n",
        "    fm.fontManager.addfont(font_file)\n",
        "\n",
        "plt.rcParams['font.family'] = 'NanumBarunGothic'\n",
        "plt.rcParams['axes.unicode_minus']=False"
      ],
      "execution_count": null,
      "outputs": []
    },
    {
      "cell_type": "code",
      "metadata": {
        "id": "U01HJZtnqMx7"
      },
      "source": [
        "f18 = pd.read_csv(f'./data/과거_판매가격(주유소)_2018.csv')"
      ],
      "execution_count": null,
      "outputs": []
    },
    {
      "cell_type": "code",
      "metadata": {
        "id": "l5Sipp2KqM0B"
      },
      "source": [
        "f18.head()"
      ],
      "execution_count": null,
      "outputs": []
    },
    {
      "cell_type": "code",
      "metadata": {
        "id": "wzOpDHR9qM10"
      },
      "source": [
        "# 0번 row 제거\n",
        "f18 = f18.drop(0) "
      ],
      "execution_count": null,
      "outputs": []
    },
    {
      "cell_type": "code",
      "metadata": {
        "id": "Bn0YwncOqM4K"
      },
      "source": [
        "# 변수별 null값 확인 결과 null 없음\n",
        "f18.isna().sum() "
      ],
      "execution_count": null,
      "outputs": []
    },
    {
      "cell_type": "code",
      "metadata": {
        "id": "JoncxDrWqM6A"
      },
      "source": [
        "# include='all': 카테고리형 변수도 정보 제공\n",
        "f18.describe(include='all') "
      ],
      "execution_count": null,
      "outputs": []
    },
    {
      "cell_type": "code",
      "metadata": {
        "id": "DSjLYnLDqM79"
      },
      "source": [
        "# 기간을 datetime 형태로 변환\n",
        "f18['기간'] = f18['기간'].apply(lambda x:pd.to_datetime(str(int(x)))) "
      ],
      "execution_count": null,
      "outputs": []
    },
    {
      "cell_type": "code",
      "metadata": {
        "id": "14vhdzHHqUdl"
      },
      "source": [
        "# 지역 변수 중 첫 지역 구분만 컬럼 형성\n",
        "region_len = f18['지역'].apply(lambda x: len(x.split())) \n",
        "print(f\"min: {min(region_len)},max: {max(region_len)}\")"
      ],
      "execution_count": null,
      "outputs": []
    },
    {
      "cell_type": "code",
      "metadata": {
        "id": "iGrbzc6LqUfs"
      },
      "source": [
        "f18['지역2'] = f18['지역'].apply(lambda x:x.split()[0])\n",
        "import collections\n",
        "collections.Counter(f18['지역2'])"
      ],
      "execution_count": null,
      "outputs": []
    },
    {
      "cell_type": "code",
      "metadata": {
        "id": "KWWWLM_8qUhu"
      },
      "source": [
        "# 휘발유값 0인 ROW 확인\n",
        "f18.loc[f18['휘발유']==0].head(10) "
      ],
      "execution_count": null,
      "outputs": []
    },
    {
      "cell_type": "code",
      "metadata": {
        "id": "cKYyZYfaqUjn"
      },
      "source": [
        "f18.loc[f18['번호']=='A0010629']"
      ],
      "execution_count": null,
      "outputs": []
    },
    {
      "cell_type": "code",
      "metadata": {
        "id": "uUbj9zdDqUlc"
      },
      "source": [
        "# 휘발유값 0인 ROW 제거\n",
        "f18 = f18.loc[f18['휘발유']!=0,:]"
      ],
      "execution_count": null,
      "outputs": []
    },
    {
      "cell_type": "code",
      "metadata": {
        "id": "YNLwamtOqXy9"
      },
      "source": [
        "f18.describe(include='all',datetime_is_numeric=True)"
      ],
      "execution_count": null,
      "outputs": []
    },
    {
      "cell_type": "code",
      "metadata": {
        "id": "Vxq3CrIyqYlX"
      },
      "source": [
        "#주유소별 데이터 정합성 확인(7일동안 변화 없었다는 전제)\n",
        "unique_count = f18.groupby('번호')[['지역','상표','셀프여부']].nunique()\n",
        "unique_count.head()"
      ],
      "execution_count": null,
      "outputs": []
    },
    {
      "cell_type": "code",
      "metadata": {
        "id": "iODAbjOKqYnM"
      },
      "source": [
        "target = unique_count.loc[(unique_count!=1).sum(axis=1)!=0]\n",
        "target"
      ],
      "execution_count": null,
      "outputs": []
    },
    {
      "cell_type": "code",
      "metadata": {
        "id": "z0ehFUHcqaTF"
      },
      "source": [
        "f18.loc[f18['번호'].isin(target.index)]"
      ],
      "execution_count": null,
      "outputs": []
    },
    {
      "cell_type": "code",
      "metadata": {
        "id": "Gd22JqACqaVt"
      },
      "source": [
        "f18 = f18.loc[~f18['번호'].isin(target.index)]"
      ],
      "execution_count": null,
      "outputs": []
    },
    {
      "cell_type": "code",
      "metadata": {
        "id": "A_iFT_xqqaYN"
      },
      "source": [
        "# 주유소별 데이터 통합\n",
        "f18 = f18.groupby('번호')\\\n",
        "    .agg({'지역':'first','지역2':'first','상표':'first','셀프여부':'first','휘발유':'mean'})\\\n",
        "    .reset_index() "
      ],
      "execution_count": null,
      "outputs": []
    },
    {
      "cell_type": "code",
      "metadata": {
        "id": "sccEcl25qaa1"
      },
      "source": [
        "f18.describe(include='all')"
      ],
      "execution_count": null,
      "outputs": []
    }
  ]
}