{
  "nbformat": 4,
  "nbformat_minor": 0,
  "metadata": {
    "colab": {
      "name": "09.14 Elice 코로나 데이터",
      "provenance": [],
      "authorship_tag": "ABX9TyOtLPY4AWR6kUs1qxs5Rx52",
      "include_colab_link": true
    },
    "kernelspec": {
      "name": "python3",
      "display_name": "Python 3"
    },
    "language_info": {
      "name": "python"
    }
  },
  "cells": [
    {
      "cell_type": "markdown",
      "metadata": {
        "id": "view-in-github",
        "colab_type": "text"
      },
      "source": [
        "<a href=\"https://colab.research.google.com/github/cocofafa/python_AI_study/blob/master/09_14_Elice_%EC%BD%94%EB%A1%9C%EB%82%98_%EB%8D%B0%EC%9D%B4%ED%84%B0.ipynb\" target=\"_parent\"><img src=\"https://colab.research.google.com/assets/colab-badge.svg\" alt=\"Open In Colab\"/></a>"
      ]
    },
    {
      "cell_type": "code",
      "metadata": {
        "id": "VQexE0hhdIbQ"
      },
      "source": [
        "import matplotlib.font_manager as fm\n",
        "\n",
        "font_dirs = ['/usr/share/fonts/truetype/nanum', ]\n",
        "font_files = fm.findSystemFonts(fontpaths=font_dirs)\n",
        "\n",
        "for font_file in font_files:\n",
        "    fm.fontManager.addfont(font_file)"
      ],
      "execution_count": null,
      "outputs": []
    },
    {
      "cell_type": "code",
      "metadata": {
        "id": "0GYOJQtddWnX"
      },
      "source": [
        "plt.figure(figsize=(20,10))\n",
        "# 한글 출력을 위해서 폰트 옵션을 설정합니다.\n",
        "sns.set(font=\"NanumBarunGothic\", \n",
        "        rc={\"axes.unicode_minus\":False},\n",
        "        style='darkgrid')\n",
        "ax = sns.countplot(x=\"지역\", data=corona_del_col, palette=\"Set2\")"
      ],
      "execution_count": null,
      "outputs": []
    },
    {
      "cell_type": "code",
      "metadata": {
        "id": "7zwZzqTLdWpm"
      },
      "source": [
        "# replace 함수를 사용하여 해당 데이터를 변경합니다.\n",
        "# 이상치가 처리된 데이터이기에 새로운 Dataframe으로 저장합니다.\n",
        "corona_out_region = corona_del_col.replace({'종랑구':'중랑구', '한국':'기타'})"
      ],
      "execution_count": null,
      "outputs": []
    },
    {
      "cell_type": "code",
      "metadata": {
        "id": "7up1pFOOdWrm"
      },
      "source": [
        "# 이상치가 처리된 데이터를 다시 출력해 봅시다.\n",
        "plt.figure(figsize=(20,10))\n",
        "sns.set(font=\"NanumBarunGothic\", \n",
        "        rc={\"axes.unicode_minus\":False},\n",
        "        style='darkgrid')\n",
        "ax = sns.countplot(x=\"지역\", data=corona_out_region, palette=\"Set2\")\n"
      ],
      "execution_count": null,
      "outputs": []
    },
    {
      "cell_type": "code",
      "metadata": {
        "id": "FoMKXGzxdWtm"
      },
      "source": [
        "# 논리연산을 이용한 조건을 다음과 같이 사용하면 해당 조건에 맞는 데이터를 출력할 수 있습니다.\n",
        "corona_out_region[corona_del_col['month'] == '8']"
      ],
      "execution_count": null,
      "outputs": []
    },
    {
      "cell_type": "code",
      "metadata": {
        "id": "ny7K5DozdWvX"
      },
      "source": [
        "# 그래프를 출력합니다.\n",
        "plt.figure(figsize=(20,10))\n",
        "sns.set(font=\"NanumBarunGothic\", \n",
        "        rc={\"axes.unicode_minus\":False},\n",
        "        style='darkgrid')\n",
        "ax = sns.countplot(x=\"지역\", data=corona_out_region[corona_del_col['month'] == '8'], palette=\"Set2\")"
      ],
      "execution_count": null,
      "outputs": []
    },
    {
      "cell_type": "code",
      "metadata": {
        "id": "gbRisZM-dWxO"
      },
      "source": [
        "# 해당 column을 지정하여 series 형태로 출력할 수 있습니다.\n",
        "corona_out_region['month'][corona_out_region['지역'] == '관악구']"
      ],
      "execution_count": null,
      "outputs": []
    },
    {
      "cell_type": "code",
      "metadata": {
        "id": "FBNcO6yLdiLO"
      },
      "source": [
        "# 그래프를 출력합니다.\n",
        "plt.figure(figsize=(10,5))\n",
        "sns.set(style=\"darkgrid\")\n",
        "ax = sns.countplot(x=\"month\", data=corona_out_region[corona_out_region['지역'] == '관악구'], palette=\"Set2\", order = order)\n"
      ],
      "execution_count": null,
      "outputs": []
    }
  ]
}