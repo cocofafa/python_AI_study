{
  "nbformat": 4,
  "nbformat_minor": 0,
  "metadata": {
    "colab": {
      "name": "08.30_Elice_페키지",
      "provenance": [],
      "authorship_tag": "ABX9TyMxESmg3/4YsXI6gEiNcKYj",
      "include_colab_link": true
    },
    "kernelspec": {
      "name": "python3",
      "display_name": "Python 3"
    },
    "language_info": {
      "name": "python"
    }
  },
  "cells": [
    {
      "cell_type": "markdown",
      "metadata": {
        "id": "view-in-github",
        "colab_type": "text"
      },
      "source": [
        "<a href=\"https://colab.research.google.com/github/cocofafa/python_AI_study/blob/master/08_30_Elice_%ED%8E%98%ED%82%A4%EC%A7%80.ipynb\" target=\"_parent\"><img src=\"https://colab.research.google.com/assets/colab-badge.svg\" alt=\"Open In Colab\"/></a>"
      ]
    },
    {
      "cell_type": "code",
      "metadata": {
        "id": "1yk13alKFWOt"
      },
      "source": [
        "# .py (점 표기법) 을 사용하여 모듈 만들수 있음"
      ],
      "execution_count": null,
      "outputs": []
    },
    {
      "cell_type": "code",
      "metadata": {
        "id": "WZhvBW21HvlT"
      },
      "source": [
        "# cal.py (cal모듈 생성) cal 모듈에 함수 생성\n",
        "\n",
        "def plus(a, b):\n",
        "  c= a+b\n",
        "\n",
        "  return c"
      ],
      "execution_count": null,
      "outputs": []
    },
    {
      "cell_type": "code",
      "metadata": {
        "id": "flC9Cn-ZH7Oa"
      },
      "source": [
        "# main.py 메인함수\n",
        "\n",
        "import cal\n",
        "\n",
        "print(cal.plus(3,4))\n",
        "\n",
        "# 7 "
      ],
      "execution_count": null,
      "outputs": []
    },
    {
      "cell_type": "code",
      "metadata": {
        "id": "EwFZcazYKAJo"
      },
      "source": [
        "#cal.py\n",
        "\n",
        "\n",
        "def plus(a, b):\n",
        "    return a+b\n",
        "\n",
        "def minus(a, b):\n",
        "    return a-b\n",
        "\n",
        "modelName = \"ELI-C2\"\n"
      ],
      "execution_count": 1,
      "outputs": []
    },
    {
      "cell_type": "code",
      "metadata": {
        "id": "1-ltJutMKCCa"
      },
      "source": [
        "#main.py\n",
        "\n",
        "import cal\n",
        "\n",
        "\n",
        "var1 = cal.modelName\n",
        "\n",
        "var2 = cal.plus(3,4)\n",
        "\n",
        "var3 = cal.minus(7,2)\n",
        "\n",
        ".\n",
        "print(var1, var2, var3)"
      ],
      "execution_count": null,
      "outputs": []
    },
    {
      "cell_type": "code",
      "metadata": {
        "id": "fzEbhdozlkH2"
      },
      "source": [
        "### 패키지 : 모듈을 폴더(디렉토리)로 구분하여 관리 하는 것\n",
        "\n",
        "\n",
        "\n",
        "\n",
        "from random import randrange #함수에 ()은 생략한다\n",
        "\n",
        "\n",
        "import math\n",
        "\n",
        "var1=randrange (1,11)\n",
        "var2=math.log(5184,72)\n",
        "\n",
        "print(var1, var2)\n",
        "#random.randrange() 모듈을 불러와줘서 바로 함수를 써준다 \n",
        "\n"
      ],
      "execution_count": null,
      "outputs": []
    },
    {
      "cell_type": "code",
      "metadata": {
        "id": "1ss-YoLkoMQ6"
      },
      "source": [
        "#Python에서는 쉽게 웹페이지의 정보를 가져올 수 있는 urllib패키지를 제공합니다. 이 중에서 urllib.request.urlopen 함수는 해당 url의 html 파일을 가져옵니다."
      ],
      "execution_count": null,
      "outputs": []
    },
    {
      "cell_type": "code",
      "metadata": {
        "id": "66DQhooyAPmF"
      },
      "source": [
        "from urllib.request import urlopen  #url 패키이지에서 request모듈 의 urlopen이란는 함수를 불러오는 코드\n",
        "\n",
        "webpage= urlopen(\"https://en.wikipedia.org/wiki/Lorem_ipsum\").read().decode(\"utf-8\")   # 함수는 a().b().c() 처럼 연속적으로 할수 있음\n",
        "\n",
        "\n",
        "print(webpage)"
      ],
      "execution_count": null,
      "outputs": []
    }
  ]
}